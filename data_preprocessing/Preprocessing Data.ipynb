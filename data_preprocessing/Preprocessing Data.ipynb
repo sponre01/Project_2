{
 "cells": [
  {
   "cell_type": "code",
   "execution_count": 1,
   "metadata": {
    "ExecuteTime": {
     "end_time": "2019-03-31T19:31:05.969687Z",
     "start_time": "2019-03-31T19:31:05.226974Z"
    }
   },
   "outputs": [],
   "source": [
    "import pandas as pd\n",
    "# from sqlalchemy import create_engine\n",
    "import tqdm\n",
    "# from config import user, password"
   ]
  },
  {
   "cell_type": "code",
   "execution_count": 42,
   "metadata": {
    "ExecuteTime": {
     "end_time": "2019-04-01T03:28:29.279034Z",
     "start_time": "2019-04-01T03:28:29.186385Z"
    }
   },
   "outputs": [],
   "source": [
    "import sqlite3\n",
    "sqlite3.connect('../data/olympics_raw.sqlite')\n",
    "df = pd.read_csv(\"../data/Summer Olympic medallists 1896 to 2008 - ALL MEDALISTS.csv\")"
   ]
  },
  {
   "cell_type": "code",
   "execution_count": 3,
   "metadata": {
    "ExecuteTime": {
     "end_time": "2019-03-31T19:31:14.063645Z",
     "start_time": "2019-03-31T19:31:14.059681Z"
    }
   },
   "outputs": [],
   "source": [
    "conn = sqlite3.connect('../data/olympics.db')"
   ]
  },
  {
   "cell_type": "code",
   "execution_count": 44,
   "metadata": {
    "ExecuteTime": {
     "end_time": "2019-04-01T03:28:48.103526Z",
     "start_time": "2019-04-01T03:28:48.081022Z"
    }
   },
   "outputs": [],
   "source": [
    "#transform the olympic csv data\n",
    "def transform_olympics(df):\n",
    "    df = df.loc[3:]\n",
    "    col_names = df.iloc[0].values\n",
    "    df.columns = col_names\n",
    "    df = df.iloc[1:]\n",
    "    df = df.reset_index().drop('index', axis=1)\n",
    "    return df\n",
    "\n",
    "df = transform_olympics(df)"
   ]
  },
  {
   "cell_type": "code",
   "execution_count": null,
   "metadata": {
    "ExecuteTime": {
     "end_time": "2019-03-30T22:50:15.510994Z",
     "start_time": "2019-03-30T22:50:15.338682Z"
    }
   },
   "outputs": [],
   "source": [
    "# send cleaned olympics data to database\n",
    "df.to_sql(name = 'olympics_raw', con = conn, if_exists='replace', index=False)"
   ]
  },
  {
   "cell_type": "code",
   "execution_count": 27,
   "metadata": {
    "ExecuteTime": {
     "end_time": "2019-03-31T19:46:26.590764Z",
     "start_time": "2019-03-31T19:46:26.435951Z"
    }
   },
   "outputs": [
    {
     "data": {
      "text/html": [
       "<div>\n",
       "<style scoped>\n",
       "    .dataframe tbody tr th:only-of-type {\n",
       "        vertical-align: middle;\n",
       "    }\n",
       "\n",
       "    .dataframe tbody tr th {\n",
       "        vertical-align: top;\n",
       "    }\n",
       "\n",
       "    .dataframe thead th {\n",
       "        text-align: right;\n",
       "    }\n",
       "</style>\n",
       "<table border=\"1\" class=\"dataframe\">\n",
       "  <thead>\n",
       "    <tr style=\"text-align: right;\">\n",
       "      <th></th>\n",
       "      <th>City</th>\n",
       "      <th>Edition</th>\n",
       "      <th>Sport</th>\n",
       "      <th>Discipline</th>\n",
       "      <th>Athlete</th>\n",
       "      <th>NOC</th>\n",
       "      <th>Gender</th>\n",
       "      <th>Event</th>\n",
       "      <th>Event_gender</th>\n",
       "      <th>Medal</th>\n",
       "    </tr>\n",
       "  </thead>\n",
       "  <tbody>\n",
       "    <tr>\n",
       "      <th>0</th>\n",
       "      <td>Athens</td>\n",
       "      <td>1896</td>\n",
       "      <td>Aquatics</td>\n",
       "      <td>Swimming</td>\n",
       "      <td>HAJOS, Alfred</td>\n",
       "      <td>HUN</td>\n",
       "      <td>Men</td>\n",
       "      <td>100m freestyle</td>\n",
       "      <td>M</td>\n",
       "      <td>Gold</td>\n",
       "    </tr>\n",
       "    <tr>\n",
       "      <th>1</th>\n",
       "      <td>Athens</td>\n",
       "      <td>1896</td>\n",
       "      <td>Aquatics</td>\n",
       "      <td>Swimming</td>\n",
       "      <td>HERSCHMANN, Otto</td>\n",
       "      <td>AUT</td>\n",
       "      <td>Men</td>\n",
       "      <td>100m freestyle</td>\n",
       "      <td>M</td>\n",
       "      <td>Silver</td>\n",
       "    </tr>\n",
       "    <tr>\n",
       "      <th>2</th>\n",
       "      <td>Athens</td>\n",
       "      <td>1896</td>\n",
       "      <td>Aquatics</td>\n",
       "      <td>Swimming</td>\n",
       "      <td>DRIVAS, Dimitrios</td>\n",
       "      <td>GRE</td>\n",
       "      <td>Men</td>\n",
       "      <td>100m freestyle for sailors</td>\n",
       "      <td>M</td>\n",
       "      <td>Bronze</td>\n",
       "    </tr>\n",
       "    <tr>\n",
       "      <th>3</th>\n",
       "      <td>Athens</td>\n",
       "      <td>1896</td>\n",
       "      <td>Aquatics</td>\n",
       "      <td>Swimming</td>\n",
       "      <td>MALOKINIS, Ioannis</td>\n",
       "      <td>GRE</td>\n",
       "      <td>Men</td>\n",
       "      <td>100m freestyle for sailors</td>\n",
       "      <td>M</td>\n",
       "      <td>Gold</td>\n",
       "    </tr>\n",
       "    <tr>\n",
       "      <th>4</th>\n",
       "      <td>Athens</td>\n",
       "      <td>1896</td>\n",
       "      <td>Aquatics</td>\n",
       "      <td>Swimming</td>\n",
       "      <td>CHASAPIS, Spiridon</td>\n",
       "      <td>GRE</td>\n",
       "      <td>Men</td>\n",
       "      <td>100m freestyle for sailors</td>\n",
       "      <td>M</td>\n",
       "      <td>Silver</td>\n",
       "    </tr>\n",
       "  </tbody>\n",
       "</table>\n",
       "</div>"
      ],
      "text/plain": [
       "     City Edition     Sport Discipline             Athlete  NOC Gender  \\\n",
       "0  Athens    1896  Aquatics   Swimming       HAJOS, Alfred  HUN    Men   \n",
       "1  Athens    1896  Aquatics   Swimming    HERSCHMANN, Otto  AUT    Men   \n",
       "2  Athens    1896  Aquatics   Swimming   DRIVAS, Dimitrios  GRE    Men   \n",
       "3  Athens    1896  Aquatics   Swimming  MALOKINIS, Ioannis  GRE    Men   \n",
       "4  Athens    1896  Aquatics   Swimming  CHASAPIS, Spiridon  GRE    Men   \n",
       "\n",
       "                        Event Event_gender   Medal  \n",
       "0              100m freestyle            M    Gold  \n",
       "1              100m freestyle            M  Silver  \n",
       "2  100m freestyle for sailors            M  Bronze  \n",
       "3  100m freestyle for sailors            M    Gold  \n",
       "4  100m freestyle for sailors            M  Silver  "
      ]
     },
     "execution_count": 27,
     "metadata": {},
     "output_type": "execute_result"
    }
   ],
   "source": [
    "# read the data from database to check\n",
    "pd.read_sql('SELECT * FROM olympics_raw LIMIT 5', conn)"
   ]
  },
  {
   "cell_type": "code",
   "execution_count": null,
   "metadata": {
    "ExecuteTime": {
     "end_time": "2019-03-30T16:15:09.372248Z",
     "start_time": "2019-03-30T16:15:03.215415Z"
    }
   },
   "outputs": [],
   "source": [
    "# !pip install geopy"
   ]
  },
  {
   "cell_type": "code",
   "execution_count": null,
   "metadata": {
    "ExecuteTime": {
     "end_time": "2019-03-30T16:24:11.370321Z",
     "start_time": "2019-03-30T16:23:54.492423Z"
    }
   },
   "outputs": [],
   "source": [
    "# !pip install pycountry-convert"
   ]
  },
  {
   "cell_type": "code",
   "execution_count": null,
   "metadata": {
    "ExecuteTime": {
     "end_time": "2019-03-30T16:25:02.134835Z",
     "start_time": "2019-03-30T16:25:02.132049Z"
    }
   },
   "outputs": [],
   "source": [
    "import pycountry\n",
    "import geopy"
   ]
  },
  {
   "cell_type": "markdown",
   "metadata": {},
   "source": [
    "### Creating a df with total medals in each country"
   ]
  },
  {
   "cell_type": "code",
   "execution_count": 31,
   "metadata": {
    "ExecuteTime": {
     "end_time": "2019-03-31T19:47:22.383069Z",
     "start_time": "2019-03-31T19:47:22.345972Z"
    }
   },
   "outputs": [
    {
     "data": {
      "text/html": [
       "<div>\n",
       "<style scoped>\n",
       "    .dataframe tbody tr th:only-of-type {\n",
       "        vertical-align: middle;\n",
       "    }\n",
       "\n",
       "    .dataframe tbody tr th {\n",
       "        vertical-align: top;\n",
       "    }\n",
       "\n",
       "    .dataframe thead th {\n",
       "        text-align: right;\n",
       "    }\n",
       "</style>\n",
       "<table border=\"1\" class=\"dataframe\">\n",
       "  <thead>\n",
       "    <tr style=\"text-align: right;\">\n",
       "      <th></th>\n",
       "      <th>Bronze</th>\n",
       "      <th>Gold</th>\n",
       "      <th>Silver</th>\n",
       "      <th>Total</th>\n",
       "    </tr>\n",
       "    <tr>\n",
       "      <th>NOC</th>\n",
       "      <th></th>\n",
       "      <th></th>\n",
       "      <th></th>\n",
       "      <th></th>\n",
       "    </tr>\n",
       "  </thead>\n",
       "  <tbody>\n",
       "    <tr>\n",
       "      <th>AFG</th>\n",
       "      <td>1.0</td>\n",
       "      <td>0.0</td>\n",
       "      <td>0.0</td>\n",
       "      <td>1.0</td>\n",
       "    </tr>\n",
       "    <tr>\n",
       "      <th>AHO</th>\n",
       "      <td>0.0</td>\n",
       "      <td>0.0</td>\n",
       "      <td>1.0</td>\n",
       "      <td>1.0</td>\n",
       "    </tr>\n",
       "    <tr>\n",
       "      <th>ALG</th>\n",
       "      <td>8.0</td>\n",
       "      <td>4.0</td>\n",
       "      <td>2.0</td>\n",
       "      <td>14.0</td>\n",
       "    </tr>\n",
       "    <tr>\n",
       "      <th>ANZ</th>\n",
       "      <td>5.0</td>\n",
       "      <td>20.0</td>\n",
       "      <td>4.0</td>\n",
       "      <td>29.0</td>\n",
       "    </tr>\n",
       "    <tr>\n",
       "      <th>ARG</th>\n",
       "      <td>88.0</td>\n",
       "      <td>68.0</td>\n",
       "      <td>83.0</td>\n",
       "      <td>239.0</td>\n",
       "    </tr>\n",
       "  </tbody>\n",
       "</table>\n",
       "</div>"
      ],
      "text/plain": [
       "     Bronze  Gold  Silver  Total\n",
       "NOC                             \n",
       "AFG     1.0   0.0     0.0    1.0\n",
       "AHO     0.0   0.0     1.0    1.0\n",
       "ALG     8.0   4.0     2.0   14.0\n",
       "ANZ     5.0  20.0     4.0   29.0\n",
       "ARG    88.0  68.0    83.0  239.0"
      ]
     },
     "execution_count": 31,
     "metadata": {},
     "output_type": "execute_result"
    }
   ],
   "source": [
    "def total_medals(df):\n",
    "    df = pd.get_dummies(df, columns = ['Medal'])\n",
    "    df_agg = df.groupby('NOC').sum()\n",
    "    df_agg['total'] = df_agg['Medal_Bronze'] + df_agg['Medal_Silver'] + df_agg['Medal_Gold']\n",
    "    df_agg.columns = ['Bronze', 'Gold', 'Silver', 'Total']\n",
    "    return df_agg\n",
    "\n",
    "total_medals(df).head()"
   ]
  },
  {
   "cell_type": "code",
   "execution_count": null,
   "metadata": {
    "ExecuteTime": {
     "end_time": "2019-03-31T16:43:25.712761Z",
     "start_time": "2019-03-31T16:43:25.700385Z"
    }
   },
   "outputs": [],
   "source": [
    "df_agg.to_sql(name = 'country_agg', con = conn, if_exists='replace', index=True)"
   ]
  },
  {
   "cell_type": "code",
   "execution_count": null,
   "metadata": {
    "ExecuteTime": {
     "end_time": "2019-03-30T17:33:31.829860Z",
     "start_time": "2019-03-30T17:33:31.824073Z"
    }
   },
   "outputs": [],
   "source": [
    "temp = pd.read_sql(\"SELECT * FROM country_agg\", con=conn)"
   ]
  },
  {
   "cell_type": "code",
   "execution_count": null,
   "metadata": {
    "ExecuteTime": {
     "end_time": "2019-03-30T17:33:54.659611Z",
     "start_time": "2019-03-30T17:33:54.656135Z"
    }
   },
   "outputs": [],
   "source": [
    "temp.columns = ['ISO_A3', 'Bronze', 'Gold', 'Silver', 'Total']"
   ]
  },
  {
   "cell_type": "code",
   "execution_count": null,
   "metadata": {
    "ExecuteTime": {
     "end_time": "2019-03-30T17:34:03.068718Z",
     "start_time": "2019-03-30T17:34:03.055135Z"
    }
   },
   "outputs": [],
   "source": [
    "df_agg.to_sql(name = 'country_agg', con = conn, if_exists='replace', index=False)"
   ]
  },
  {
   "cell_type": "markdown",
   "metadata": {},
   "source": [
    "### Helping becky with local total json"
   ]
  },
  {
   "cell_type": "code",
   "execution_count": null,
   "metadata": {
    "ExecuteTime": {
     "end_time": "2019-03-30T17:42:10.168625Z",
     "start_time": "2019-03-30T17:42:09.751161Z"
    }
   },
   "outputs": [],
   "source": [
    "df_agg.to_json(\"country_agg.json\")"
   ]
  },
  {
   "cell_type": "code",
   "execution_count": null,
   "metadata": {
    "ExecuteTime": {
     "end_time": "2019-03-30T22:53:15.806828Z",
     "start_time": "2019-03-30T22:53:15.803561Z"
    }
   },
   "outputs": [],
   "source": [
    "import json"
   ]
  },
  {
   "cell_type": "code",
   "execution_count": null,
   "metadata": {
    "ExecuteTime": {
     "end_time": "2019-03-30T22:53:18.427553Z",
     "start_time": "2019-03-30T22:53:16.083464Z"
    }
   },
   "outputs": [],
   "source": [
    "address = \"../Map view/raw/countries copy.json\"\n",
    "with open(address) as json_file:  \n",
    "    data2 = json.load(json_file)"
   ]
  },
  {
   "cell_type": "code",
   "execution_count": null,
   "metadata": {
    "ExecuteTime": {
     "end_time": "2019-03-30T22:54:14.456761Z",
     "start_time": "2019-03-30T22:54:14.450134Z"
    }
   },
   "outputs": [],
   "source": [
    "data2['features'][0]"
   ]
  },
  {
   "cell_type": "code",
   "execution_count": null,
   "metadata": {
    "ExecuteTime": {
     "end_time": "2019-03-30T23:01:33.030858Z",
     "start_time": "2019-03-30T23:01:33.025410Z"
    }
   },
   "outputs": [],
   "source": [
    "len(data2['features'])"
   ]
  },
  {
   "cell_type": "code",
   "execution_count": null,
   "metadata": {
    "ExecuteTime": {
     "end_time": "2019-03-30T23:12:09.754052Z",
     "start_time": "2019-03-30T23:12:09.682994Z"
    }
   },
   "outputs": [],
   "source": [
    "for x in range(len(data2['features'])):\n",
    "    temp = data2['features'][x]\n",
    "    prop = temp['properties']['ISO_A3']\n",
    "    try:\n",
    "        print(prop)\n",
    "        print(df_agg.loc[prop]['Total'])\n",
    "        temp['total'] = df_agg.loc[prop]['Total']\n",
    "    except:\n",
    "        print(f\"---------------{prop}-------------\")\n",
    "        print(0)\n",
    "        temp['total'] = 0"
   ]
  },
  {
   "cell_type": "code",
   "execution_count": null,
   "metadata": {
    "ExecuteTime": {
     "end_time": "2019-03-30T23:12:32.150427Z",
     "start_time": "2019-03-30T23:12:32.144417Z"
    }
   },
   "outputs": [],
   "source": [
    "data2['features'][0]"
   ]
  },
  {
   "cell_type": "code",
   "execution_count": null,
   "metadata": {
    "ExecuteTime": {
     "end_time": "2019-03-30T23:13:23.113360Z",
     "start_time": "2019-03-30T23:13:23.103107Z"
    }
   },
   "outputs": [],
   "source": [
    "data2.to_json('geo_json_tot.json')"
   ]
  },
  {
   "cell_type": "markdown",
   "metadata": {},
   "source": [
    "### Creating flags_ref file"
   ]
  },
  {
   "cell_type": "code",
   "execution_count": null,
   "metadata": {
    "ExecuteTime": {
     "end_time": "2019-03-30T23:15:28.548489Z",
     "start_time": "2019-03-30T23:15:23.646016Z"
    }
   },
   "outputs": [],
   "source": [
    "with open('geo_json_total.json', 'w') as outfile:\n",
    "    json.dump(data2, outfile)"
   ]
  },
  {
   "cell_type": "code",
   "execution_count": null,
   "metadata": {
    "ExecuteTime": {
     "end_time": "2019-03-30T23:55:55.590312Z",
     "start_time": "2019-03-30T23:55:55.575276Z"
    }
   },
   "outputs": [],
   "source": [
    "flags = pd.read_csv(\"../data/flag_images.csv\", index_col=0)"
   ]
  },
  {
   "cell_type": "code",
   "execution_count": null,
   "metadata": {
    "ExecuteTime": {
     "end_time": "2019-03-30T23:55:55.878093Z",
     "start_time": "2019-03-30T23:55:55.868206Z"
    }
   },
   "outputs": [],
   "source": [
    "flags.head()"
   ]
  },
  {
   "cell_type": "code",
   "execution_count": null,
   "metadata": {
    "ExecuteTime": {
     "end_time": "2019-03-30T23:58:29.278144Z",
     "start_time": "2019-03-30T23:58:29.273225Z"
    }
   },
   "outputs": [],
   "source": [
    "country_ref = pd.DataFrame(df['NOC'].unique())"
   ]
  },
  {
   "cell_type": "code",
   "execution_count": null,
   "metadata": {
    "ExecuteTime": {
     "end_time": "2019-03-31T00:04:25.754711Z",
     "start_time": "2019-03-31T00:04:25.740859Z"
    }
   },
   "outputs": [],
   "source": [
    "# country_ref[0].apply(lambda x:)\n",
    "# country_ref['country_name'] = ''\n",
    "for i in range(len(country_ref[0])):\n",
    "    try:\n",
    "#         print(pycountry.countries.get(alpha_3=i).name)\n",
    "        country_ref.at[i, 'country_name']= pycountry.countries.get(alpha_3=country_ref[0][i]).name\n",
    "    except:\n",
    "        print(country_ref[0][i])\n",
    "    "
   ]
  },
  {
   "cell_type": "code",
   "execution_count": null,
   "metadata": {
    "ExecuteTime": {
     "end_time": "2019-03-31T00:22:38.142215Z",
     "start_time": "2019-03-31T00:10:06.344030Z"
    }
   },
   "outputs": [],
   "source": [
    "for i in range(country_ref.shape[0]):\n",
    "    if country_ref['country_name'][i] == '':\n",
    "        print(country_ref[0][i])\n",
    "        c = input(\"Enter country name: \")\n",
    "        country_ref.at[i, 'country_name']= c\n",
    "        print(f\"You have successfully inputted {country_ref[0][i]} as {country_ref['country_name'][i]}\")\n",
    "    "
   ]
  },
  {
   "cell_type": "code",
   "execution_count": null,
   "metadata": {
    "ExecuteTime": {
     "end_time": "2019-03-31T00:23:05.438250Z",
     "start_time": "2019-03-31T00:23:05.433638Z"
    }
   },
   "outputs": [],
   "source": [
    "country_ref.columns = ['code', 'country_name']"
   ]
  },
  {
   "cell_type": "code",
   "execution_count": null,
   "metadata": {
    "ExecuteTime": {
     "end_time": "2019-03-31T00:23:38.305856Z",
     "start_time": "2019-03-31T00:23:38.291702Z"
    }
   },
   "outputs": [],
   "source": [
    "country_ref.to_sql(name = 'country_ref', con = conn, if_exists='replace', index=False)"
   ]
  },
  {
   "cell_type": "code",
   "execution_count": null,
   "metadata": {
    "ExecuteTime": {
     "end_time": "2019-03-31T00:23:58.182794Z",
     "start_time": "2019-03-31T00:23:58.164233Z"
    }
   },
   "outputs": [],
   "source": [
    "pd.read_sql(\"SELECT * FROM country_ref\", con = conn)"
   ]
  },
  {
   "cell_type": "code",
   "execution_count": null,
   "metadata": {
    "ExecuteTime": {
     "end_time": "2019-03-31T00:25:21.034425Z",
     "start_time": "2019-03-31T00:25:21.018988Z"
    }
   },
   "outputs": [],
   "source": [
    "flags.to_sql(name = 'flags_ref', con = conn, if_exists='replace', index=False)"
   ]
  },
  {
   "cell_type": "markdown",
   "metadata": {
    "ExecuteTime": {
     "end_time": "2019-04-01T03:11:21.387344Z",
     "start_time": "2019-04-01T03:11:21.283622Z"
    }
   },
   "source": [
    "### Haneen data asks"
   ]
  },
  {
   "cell_type": "markdown",
   "metadata": {},
   "source": [
    "Is it possible to get the number of\n",
    "1- male vs female for different sports for each country.  eg: in US in 2000 total gold medals for  66 males , 30 silver, female 40 gold, in 1999...etc  \n",
    "\n",
    "Also the same as above  (per country) but with different medal types per sport, eg: in US in year 2000 for swimming women won 6 gold, 3 silver and men 4 gold and 3 silver, in year 1999....etc  \n",
    "\n",
    "3- I was also thinking of adding a slider visualization for the  main page ( because i would only sub variables) so a filter for each sport separately through the years  grouping all medal types and genders per country per sport. Example: In 2000 for swimming: US got 33 gold (15 women, 18 men), 30 silver (20 women, 10 men), Canada got 20 (20 women) gold and 40 bronze (40 men), in year 1999....etc"
   ]
  },
  {
   "cell_type": "code",
   "execution_count": 45,
   "metadata": {
    "ExecuteTime": {
     "end_time": "2019-04-01T05:16:14.933665Z",
     "start_time": "2019-04-01T05:16:14.874237Z"
    }
   },
   "outputs": [
    {
     "data": {
      "text/html": [
       "<div>\n",
       "<style scoped>\n",
       "    .dataframe tbody tr th:only-of-type {\n",
       "        vertical-align: middle;\n",
       "    }\n",
       "\n",
       "    .dataframe tbody tr th {\n",
       "        vertical-align: top;\n",
       "    }\n",
       "\n",
       "    .dataframe thead th {\n",
       "        text-align: right;\n",
       "    }\n",
       "</style>\n",
       "<table border=\"1\" class=\"dataframe\">\n",
       "  <thead>\n",
       "    <tr style=\"text-align: right;\">\n",
       "      <th></th>\n",
       "      <th>City</th>\n",
       "      <th>Edition</th>\n",
       "      <th>Sport</th>\n",
       "      <th>Discipline</th>\n",
       "      <th>Athlete</th>\n",
       "      <th>NOC</th>\n",
       "      <th>Gender</th>\n",
       "      <th>Event</th>\n",
       "      <th>Event_gender</th>\n",
       "      <th>Medal</th>\n",
       "    </tr>\n",
       "  </thead>\n",
       "  <tbody>\n",
       "    <tr>\n",
       "      <th>0</th>\n",
       "      <td>Athens</td>\n",
       "      <td>1896</td>\n",
       "      <td>Aquatics</td>\n",
       "      <td>Swimming</td>\n",
       "      <td>HAJOS, Alfred</td>\n",
       "      <td>HUN</td>\n",
       "      <td>Men</td>\n",
       "      <td>100m freestyle</td>\n",
       "      <td>M</td>\n",
       "      <td>Gold</td>\n",
       "    </tr>\n",
       "    <tr>\n",
       "      <th>1</th>\n",
       "      <td>Athens</td>\n",
       "      <td>1896</td>\n",
       "      <td>Aquatics</td>\n",
       "      <td>Swimming</td>\n",
       "      <td>HERSCHMANN, Otto</td>\n",
       "      <td>AUT</td>\n",
       "      <td>Men</td>\n",
       "      <td>100m freestyle</td>\n",
       "      <td>M</td>\n",
       "      <td>Silver</td>\n",
       "    </tr>\n",
       "    <tr>\n",
       "      <th>2</th>\n",
       "      <td>Athens</td>\n",
       "      <td>1896</td>\n",
       "      <td>Aquatics</td>\n",
       "      <td>Swimming</td>\n",
       "      <td>DRIVAS, Dimitrios</td>\n",
       "      <td>GRE</td>\n",
       "      <td>Men</td>\n",
       "      <td>100m freestyle for sailors</td>\n",
       "      <td>M</td>\n",
       "      <td>Bronze</td>\n",
       "    </tr>\n",
       "    <tr>\n",
       "      <th>3</th>\n",
       "      <td>Athens</td>\n",
       "      <td>1896</td>\n",
       "      <td>Aquatics</td>\n",
       "      <td>Swimming</td>\n",
       "      <td>MALOKINIS, Ioannis</td>\n",
       "      <td>GRE</td>\n",
       "      <td>Men</td>\n",
       "      <td>100m freestyle for sailors</td>\n",
       "      <td>M</td>\n",
       "      <td>Gold</td>\n",
       "    </tr>\n",
       "    <tr>\n",
       "      <th>4</th>\n",
       "      <td>Athens</td>\n",
       "      <td>1896</td>\n",
       "      <td>Aquatics</td>\n",
       "      <td>Swimming</td>\n",
       "      <td>CHASAPIS, Spiridon</td>\n",
       "      <td>GRE</td>\n",
       "      <td>Men</td>\n",
       "      <td>100m freestyle for sailors</td>\n",
       "      <td>M</td>\n",
       "      <td>Silver</td>\n",
       "    </tr>\n",
       "  </tbody>\n",
       "</table>\n",
       "</div>"
      ],
      "text/plain": [
       "     City Edition     Sport Discipline             Athlete  NOC Gender  \\\n",
       "0  Athens    1896  Aquatics   Swimming       HAJOS, Alfred  HUN    Men   \n",
       "1  Athens    1896  Aquatics   Swimming    HERSCHMANN, Otto  AUT    Men   \n",
       "2  Athens    1896  Aquatics   Swimming   DRIVAS, Dimitrios  GRE    Men   \n",
       "3  Athens    1896  Aquatics   Swimming  MALOKINIS, Ioannis  GRE    Men   \n",
       "4  Athens    1896  Aquatics   Swimming  CHASAPIS, Spiridon  GRE    Men   \n",
       "\n",
       "                        Event Event_gender   Medal  \n",
       "0              100m freestyle            M    Gold  \n",
       "1              100m freestyle            M  Silver  \n",
       "2  100m freestyle for sailors            M  Bronze  \n",
       "3  100m freestyle for sailors            M    Gold  \n",
       "4  100m freestyle for sailors            M  Silver  "
      ]
     },
     "execution_count": 45,
     "metadata": {},
     "output_type": "execute_result"
    }
   ],
   "source": [
    "df.head()"
   ]
  },
  {
   "cell_type": "code",
   "execution_count": 56,
   "metadata": {
    "ExecuteTime": {
     "end_time": "2019-04-01T05:22:26.464997Z",
     "start_time": "2019-04-01T05:22:26.428155Z"
    }
   },
   "outputs": [],
   "source": [
    "han1 = df[['Edition', 'Gender', 'Discipline', 'Medal']]\n",
    "pd.get_dummies(han1, columns=['Medal']).groupby(['Edition', 'Gender', 'Discipline']).sum().to_csv(\"haneen.csv\")"
   ]
  },
  {
   "cell_type": "code",
   "execution_count": null,
   "metadata": {},
   "outputs": [],
   "source": []
  }
 ],
 "metadata": {
  "kernelspec": {
   "display_name": "Python 3",
   "language": "python",
   "name": "python3"
  },
  "language_info": {
   "codemirror_mode": {
    "name": "ipython",
    "version": 3
   },
   "file_extension": ".py",
   "mimetype": "text/x-python",
   "name": "python",
   "nbconvert_exporter": "python",
   "pygments_lexer": "ipython3",
   "version": "3.6.7"
  }
 },
 "nbformat": 4,
 "nbformat_minor": 2
}

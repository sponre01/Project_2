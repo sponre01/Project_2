{
 "cells": [
  {
   "cell_type": "code",
   "execution_count": 1,
   "metadata": {},
   "outputs": [],
   "source": [
    "import sqlite3\n",
    "import pandas as pd\n",
    "from sqlalchemy import create_engine\n",
    "from sqlalchemy.ext.automap import automap_base\n",
    "import os\n",
    "from flask import (\n",
    "    Flask,\n",
    "    render_template,\n",
    "    jsonify,\n",
    "    request,\n",
    "    redirect)\n",
    "from flask_sqlalchemy import SQLAlchemy\n",
    "from sqlalchemy import func"
   ]
  },
  {
   "cell_type": "code",
   "execution_count": 2,
   "metadata": {
    "scrolled": true
   },
   "outputs": [
    {
     "name": "stderr",
     "output_type": "stream",
     "text": [
      "C:\\Users\\norfe\\Anaconda3\\lib\\site-packages\\flask_sqlalchemy\\__init__.py:794: FSADeprecationWarning: SQLALCHEMY_TRACK_MODIFICATIONS adds significant overhead and will be disabled by default in the future.  Set it to True or False to suppress this warning.\n",
      "  'SQLALCHEMY_TRACK_MODIFICATIONS adds significant overhead and '\n"
     ]
    }
   ],
   "source": [
    "app = Flask(__name__)\n",
    "\n",
    "app.config['SQLALCHEMY_DATABASE_URI'] = 'sqlite:///../data/new_olympics.db'\n",
    "db = SQLAlchemy(app)\n",
    "\n"
   ]
  },
  {
   "cell_type": "code",
   "execution_count": 3,
   "metadata": {},
   "outputs": [],
   "source": [
    "sqlite3.connect('../data/olympics_raw.sqlite')\n",
    "conn = sqlite3.connect('../data/new_olympics.db')"
   ]
  },
  {
   "cell_type": "code",
   "execution_count": 4,
   "metadata": {},
   "outputs": [
    {
     "data": {
      "text/html": [
       "<div>\n",
       "<style scoped>\n",
       "    .dataframe tbody tr th:only-of-type {\n",
       "        vertical-align: middle;\n",
       "    }\n",
       "\n",
       "    .dataframe tbody tr th {\n",
       "        vertical-align: top;\n",
       "    }\n",
       "\n",
       "    .dataframe thead th {\n",
       "        text-align: right;\n",
       "    }\n",
       "</style>\n",
       "<table border=\"1\" class=\"dataframe\">\n",
       "  <thead>\n",
       "    <tr style=\"text-align: right;\">\n",
       "      <th></th>\n",
       "      <th>id</th>\n",
       "      <th>City</th>\n",
       "      <th>Edition</th>\n",
       "      <th>Sport</th>\n",
       "      <th>Discipline</th>\n",
       "      <th>Athlete</th>\n",
       "      <th>NOC</th>\n",
       "      <th>Gender</th>\n",
       "      <th>Event</th>\n",
       "      <th>Event_gender</th>\n",
       "      <th>Medal</th>\n",
       "      <th>country_id</th>\n",
       "    </tr>\n",
       "  </thead>\n",
       "  <tbody>\n",
       "    <tr>\n",
       "      <th>0</th>\n",
       "      <td>1</td>\n",
       "      <td>Athens</td>\n",
       "      <td>1896</td>\n",
       "      <td>Aquatics</td>\n",
       "      <td>Swimming</td>\n",
       "      <td>HAJOS, Alfred</td>\n",
       "      <td>HUN</td>\n",
       "      <td>Men</td>\n",
       "      <td>100m freestyle</td>\n",
       "      <td>M</td>\n",
       "      <td>Gold</td>\n",
       "      <td>1</td>\n",
       "    </tr>\n",
       "  </tbody>\n",
       "</table>\n",
       "</div>"
      ],
      "text/plain": [
       "   id    City Edition     Sport Discipline        Athlete  NOC Gender  \\\n",
       "0   1  Athens    1896  Aquatics   Swimming  HAJOS, Alfred  HUN    Men   \n",
       "\n",
       "            Event Event_gender Medal  country_id  \n",
       "0  100m freestyle            M  Gold           1  "
      ]
     },
     "execution_count": 4,
     "metadata": {},
     "output_type": "execute_result"
    }
   ],
   "source": [
    "pd.read_sql('SELECT * FROM olympics_raw LIMIT 1', conn)"
   ]
  },
  {
   "cell_type": "code",
   "execution_count": 5,
   "metadata": {},
   "outputs": [],
   "source": [
    " # Create engine using the `demographics.sqlite` database file\n",
    "Base = automap_base()    \n",
    "engine = create_engine(\"sqlite:///../data/new_olympics.db\")\n",
    "Base.prepare(engine, reflect=True)"
   ]
  },
  {
   "cell_type": "code",
   "execution_count": 6,
   "metadata": {},
   "outputs": [
    {
     "data": {
      "text/plain": [
       "['country_ref', 'olympics_raw']"
      ]
     },
     "execution_count": 6,
     "metadata": {},
     "output_type": "execute_result"
    }
   ],
   "source": [
    "Base.classes.keys()"
   ]
  },
  {
   "cell_type": "code",
   "execution_count": 7,
   "metadata": {},
   "outputs": [
    {
     "data": {
      "text/plain": [
       "MetaData(bind=None)"
      ]
     },
     "execution_count": 7,
     "metadata": {},
     "output_type": "execute_result"
    }
   ],
   "source": [
    "Base.metadata"
   ]
  },
  {
   "cell_type": "code",
   "execution_count": 8,
   "metadata": {},
   "outputs": [],
   "source": [
    "class olympic_raw(db.Model):\n",
    "    __tablename__ = 'olympics_raw'\n",
    "    __table_args__ = {'extend_existing': True} \n",
    "    id = db.Column(db.Integer, primary_key=True)\n",
    "    City = db.Column(db.String(64))\n",
    "    Edition =  db.Column(db.String(64))\n",
    "    Event= db.Column(db.String(64))\n",
    "    Event_Gender= db.Column(db.String(64))\n",
    "    Medal = db.Column(db.String(64))\n",
    "    country_id =db.Column(db.Integer)\n",
    "    NOC = db.Column(db.String(64))\n",
    "    Gender = db.Column(db.String(64))\n",
    "    Discipline = db.Column(db.String(64))\n",
    "    Athlete = db.Column(db.String(64))"
   ]
  },
  {
   "cell_type": "code",
   "execution_count": 9,
   "metadata": {},
   "outputs": [],
   "source": [
    "class raw(db.Model):\n",
    "    __tablename__ = 'olympics_raw'\n",
    "    __table_args__ = {'extend_existing': True} \n",
    "    id = db.Column(db.Integer, primary_key=True)\n",
    "    City = db.Column(db.String(64))\n",
    "    Edition =  db.Column(db.String(64))\n",
    "    Event= db.Column(db.String(64))\n",
    "    Event_Gender= db.Column(db.String(64))\n",
    "    Medal = db.Column(db.String(64))\n",
    "    country_id =db.Column(db.Integer, db.ForeignKey('country_ref.id'))\n",
    "    NOC = db.Column(db.String(64))\n",
    "    Gender = db.Column(db.String(64))\n",
    "    Discipline = db.Column(db.String(64))\n",
    "    Athlete = db.Column(db.String(64))\n",
    "    Sport = db.Column(db.String(64))\n",
    "    def __repr__(self):\n",
    "        return '<raw %r>' % (self.id)"
   ]
  },
  {
   "cell_type": "code",
   "execution_count": 10,
   "metadata": {},
   "outputs": [],
   "source": [
    "class country_ref(db.Model):\n",
    "    __tablename__ = 'country_ref' \n",
    "    __table_args__ = {'extend_existing': True} \n",
    "    id = db.Column(db.Integer, primary_key=True)\n",
    "    country_name = db.Column(db.String(64))\n",
    "    code =db.Column(db.String(64))\n",
    "    flag_source = db.Column(db.String(64))\n",
    "    flag_image = db.Column(db.String(64))\n",
    "    def __repr__(self):\n",
    "        return '<country_ref %r>' % (self.id)\n"
   ]
  },
  {
   "cell_type": "code",
   "execution_count": 11,
   "metadata": {},
   "outputs": [],
   "source": [
    "countries = Base.classes.country_ref\n"
   ]
  },
  {
   "cell_type": "code",
   "execution_count": 12,
   "metadata": {},
   "outputs": [],
   "source": [
    "cr = db.session.query(country_ref.id, country_ref.code, country_ref.country_name,country_ref.flag_image).all()\n"
   ]
  },
  {
   "cell_type": "code",
   "execution_count": 18,
   "metadata": {},
   "outputs": [
    {
     "data": {
      "text/plain": [
       "[('USA', '1896', 'Athletics', 17),\n",
       " ('USA', '1896', 'Shooting', 3),\n",
       " ('USA', '1900', 'Athletics', 39),\n",
       " ('USA', '1900', 'Cycling', 1),\n",
       " ('USA', '1900', 'Golf', 4),\n",
       " ('USA', '1900', 'Rowing', 9),\n",
       " ('USA', '1900', 'Sailing', 1),\n",
       " ('USA', '1900', 'Tennis', 1),\n",
       " ('USA', '1904', 'Aquatics', 28),\n",
       " ('USA', '1904', 'Archery', 30),\n",
       " ('USA', '1904', 'Athletics', 72),\n",
       " ('USA', '1904', 'Boxing', 19),\n",
       " ('USA', '1904', 'Cycling', 21),\n",
       " ('USA', '1904', 'Fencing', 6),\n",
       " ('USA', '1904', 'Football', 46),\n",
       " ('USA', '1904', 'Golf', 23),\n",
       " ('USA', '1904', 'Gymnastics', 44),\n",
       " ('USA', '1904', 'Lacrosse', 13),\n",
       " ('USA', '1904', 'Roque', 3),\n",
       " ('USA', '1904', 'Rowing', 36),\n",
       " ('USA', '1904', 'Tennis', 12),\n",
       " ('USA', '1904', 'Tug of War', 15),\n",
       " ('USA', '1904', 'Weightlifting', 5),\n",
       " ('USA', '1904', 'Wrestling', 21),\n",
       " ('USA', '1908', 'Aquatics', 6),\n",
       " ('USA', '1908', 'Archery', 1),\n",
       " ('USA', '1908', 'Athletics', 39),\n",
       " ('USA', '1908', 'Jeu de paume', 1),\n",
       " ('USA', '1908', 'Shooting', 14),\n",
       " ('USA', '1908', 'Wrestling', 2),\n",
       " ('USA', '1912', 'Aquatics', 7),\n",
       " ('USA', '1912', 'Athletics', 49),\n",
       " ('USA', '1912', 'Cycling', 5),\n",
       " ('USA', '1912', 'Equestrian', 4),\n",
       " ('USA', '1912', 'Shooting', 36),\n",
       " ('USA', '1920', 'Aquatics', 30),\n",
       " ('USA', '1920', 'Athletics', 34),\n",
       " ('USA', '1920', 'Boxing', 4),\n",
       " ('USA', '1920', 'Fencing', 5),\n",
       " ('USA', '1920', 'Ice Hockey', 11),\n",
       " ('USA', '1920', 'Polo', 4),\n",
       " ('USA', '1920', 'Rowing', 17),\n",
       " ('USA', '1920', 'Rugby', 17),\n",
       " ('USA', '1920', 'Shooting', 64),\n",
       " ('USA', '1920', 'Skating', 1),\n",
       " ('USA', '1920', 'Wrestling', 6),\n",
       " ('USA', '1924', 'Aquatics', 51),\n",
       " ('USA', '1924', 'Athletics', 48),\n",
       " ('USA', '1924', 'Boxing', 6),\n",
       " ('USA', '1924', 'Equestrian', 1),\n",
       " ('USA', '1924', 'Gymnastics', 1),\n",
       " ('USA', '1924', 'Polo', 5),\n",
       " ('USA', '1924', 'Rowing', 20),\n",
       " ('USA', '1924', 'Rugby', 29),\n",
       " ('USA', '1924', 'Shooting', 21),\n",
       " ('USA', '1924', 'Tennis', 10),\n",
       " ('USA', '1924', 'Wrestling', 6),\n",
       " ('USA', '1928', 'Aquatics', 26),\n",
       " ('USA', '1928', 'Athletics', 34),\n",
       " ('USA', '1928', 'Boxing', 3),\n",
       " ('USA', '1928', 'Fencing', 1),\n",
       " ('USA', '1928', 'Rowing', 18),\n",
       " ('USA', '1928', 'Wrestling', 2),\n",
       " ('USA', '1932', 'Aquatics', 35),\n",
       " ('USA', '1932', 'Athletics', 44),\n",
       " ('USA', '1932', 'Boxing', 5),\n",
       " ('USA', '1932', 'Equestrian', 9),\n",
       " ('USA', '1932', 'Fencing', 13),\n",
       " ('USA', '1932', 'Gymnastics', 20),\n",
       " ('USA', '1932', 'Hockey', 12),\n",
       " ('USA', '1932', 'Modern Pentathlon', 1),\n",
       " ('USA', '1932', 'Rowing', 15),\n",
       " ('USA', '1932', 'Sailing', 20),\n",
       " ('USA', '1932', 'Weightlifting', 2),\n",
       " ('USA', '1932', 'Wrestling', 5),\n",
       " ('USA', '1936', 'Aquatics', 24),\n",
       " ('USA', '1936', 'Athletics', 34),\n",
       " ('USA', '1936', 'Basketball', 14),\n",
       " ('USA', '1936', 'Boxing', 2),\n",
       " ('USA', '1936', 'Canoe / Kayak', 1),\n",
       " ('USA', '1936', 'Equestrian', 1),\n",
       " ('USA', '1936', 'Modern Pentathlon', 1),\n",
       " ('USA', '1936', 'Rowing', 10),\n",
       " ('USA', '1936', 'Weightlifting', 1),\n",
       " ('USA', '1936', 'Wrestling', 4),\n",
       " ('USA', '1948', 'Aquatics', 31),\n",
       " ('USA', '1948', 'Athletics', 33),\n",
       " ('USA', '1948', 'Basketball', 14),\n",
       " ('USA', '1948', 'Boxing', 1),\n",
       " ('USA', '1948', 'Canoe / Kayak', 5),\n",
       " ('USA', '1948', 'Equestrian', 7),\n",
       " ('USA', '1948', 'Fencing', 6),\n",
       " ('USA', '1948', 'Gymnastics', 8),\n",
       " ('USA', '1948', 'Modern Pentathlon', 1),\n",
       " ('USA', '1948', 'Rowing', 18),\n",
       " ('USA', '1948', 'Sailing', 10),\n",
       " ('USA', '1948', 'Shooting', 2),\n",
       " ('USA', '1948', 'Weightlifting', 8),\n",
       " ('USA', '1948', 'Wrestling', 4),\n",
       " ('USA', '1952', 'Aquatics', 24),\n",
       " ('USA', '1952', 'Athletics', 40),\n",
       " ('USA', '1952', 'Basketball', 14),\n",
       " ('USA', '1952', 'Boxing', 5),\n",
       " ('USA', '1952', 'Canoe / Kayak', 1),\n",
       " ('USA', '1952', 'Equestrian', 6),\n",
       " ('USA', '1952', 'Rowing', 16),\n",
       " ('USA', '1952', 'Sailing', 12),\n",
       " ('USA', '1952', 'Shooting', 2),\n",
       " ('USA', '1952', 'Weightlifting', 6),\n",
       " ('USA', '1952', 'Wrestling', 4),\n",
       " ('USA', '1956', 'Aquatics', 26),\n",
       " ('USA', '1956', 'Athletics', 40),\n",
       " ('USA', '1956', 'Basketball', 12),\n",
       " ('USA', '1956', 'Boxing', 3),\n",
       " ('USA', '1956', 'Modern Pentathlon', 3),\n",
       " ('USA', '1956', 'Rowing', 21),\n",
       " ('USA', '1956', 'Sailing', 3),\n",
       " ('USA', '1956', 'Shooting', 1),\n",
       " ('USA', '1956', 'Weightlifting', 7),\n",
       " ('USA', '1956', 'Wrestling', 2),\n",
       " ('USA', '1960', 'Aquatics', 33),\n",
       " ('USA', '1960', 'Athletics', 32),\n",
       " ('USA', '1960', 'Basketball', 12),\n",
       " ('USA', '1960', 'Boxing', 4),\n",
       " ('USA', '1960', 'Equestrian', 3),\n",
       " ('USA', '1960', 'Fencing', 1),\n",
       " ('USA', '1960', 'Modern Pentathlon', 4),\n",
       " ('USA', '1960', 'Rowing', 7),\n",
       " ('USA', '1960', 'Sailing', 5),\n",
       " ('USA', '1960', 'Shooting', 2),\n",
       " ('USA', '1960', 'Weightlifting', 6),\n",
       " ('USA', '1960', 'Wrestling', 3),\n",
       " ('USA', '1964', 'Aquatics', 52),\n",
       " ('USA', '1964', 'Athletics', 33),\n",
       " ('USA', '1964', 'Basketball', 12),\n",
       " ('USA', '1964', 'Boxing', 4),\n",
       " ('USA', '1964', 'Canoe / Kayak', 3),\n",
       " ('USA', '1964', 'Equestrian', 3),\n",
       " ('USA', '1964', 'Judo', 1),\n",
       " ('USA', '1964', 'Modern Pentathlon', 3),\n",
       " ('USA', '1964', 'Rowing', 18),\n",
       " ('USA', '1964', 'Sailing', 11),\n",
       " ('USA', '1964', 'Shooting', 7),\n",
       " ('USA', '1964', 'Weightlifting', 2),\n",
       " ('USA', '1964', 'Wrestling', 1),\n",
       " ('USA', '1968', 'Aquatics', 73),\n",
       " ('USA', '1968', 'Athletics', 37),\n",
       " ('USA', '1968', 'Basketball', 12),\n",
       " ('USA', '1968', 'Boxing', 7),\n",
       " ('USA', '1968', 'Equestrian', 5),\n",
       " ('USA', '1968', 'Rowing', 4),\n",
       " ('USA', '1968', 'Sailing', 5),\n",
       " ('USA', '1968', 'Shooting', 3),\n",
       " ('USA', '1968', 'Weightlifting', 1),\n",
       " ('USA', '1968', 'Wrestling', 2),\n",
       " ('USA', '1972', 'Aquatics', 72),\n",
       " ('USA', '1972', 'Archery', 2),\n",
       " ('USA', '1972', 'Athletics', 28),\n",
       " ('USA', '1972', 'Basketball', 12),\n",
       " ('USA', '1972', 'Boxing', 4),\n",
       " ('USA', '1972', 'Canoe / Kayak', 1),\n",
       " ('USA', '1972', 'Equestrian', 9),\n",
       " ('USA', '1972', 'Rowing', 9),\n",
       " ('USA', '1972', 'Sailing', 8),\n",
       " ('USA', '1972', 'Shooting', 4),\n",
       " ('USA', '1972', 'Wrestling', 6),\n",
       " ('USA', '1976', 'Aquatics', 51),\n",
       " ('USA', '1976', 'Archery', 2),\n",
       " ('USA', '1976', 'Athletics', 31),\n",
       " ('USA', '1976', 'Basketball', 24),\n",
       " ('USA', '1976', 'Boxing', 7),\n",
       " ('USA', '1976', 'Equestrian', 9),\n",
       " ('USA', '1976', 'Gymnastics', 1),\n",
       " ('USA', '1976', 'Judo', 1),\n",
       " ('USA', '1976', 'Rowing', 12),\n",
       " ('USA', '1976', 'Sailing', 7),\n",
       " ('USA', '1976', 'Shooting', 3),\n",
       " ('USA', '1976', 'Weightlifting', 1),\n",
       " ('USA', '1976', 'Wrestling', 6),\n",
       " ('USA', '1984', 'Aquatics', 73),\n",
       " ('USA', '1984', 'Archery', 2),\n",
       " ('USA', '1984', 'Athletics', 52),\n",
       " ('USA', '1984', 'Basketball', 24),\n",
       " ('USA', '1984', 'Boxing', 11),\n",
       " ('USA', '1984', 'Canoe / Kayak', 1),\n",
       " ('USA', '1984', 'Cycling', 15),\n",
       " ('USA', '1984', 'Equestrian', 11),\n",
       " ('USA', '1984', 'Fencing', 1),\n",
       " ('USA', '1984', 'Gymnastics', 26),\n",
       " ('USA', '1984', 'Hockey', 16),\n",
       " ('USA', '1984', 'Judo', 2),\n",
       " ('USA', '1984', 'Modern Pentathlon', 3),\n",
       " ('USA', '1984', 'Rowing', 38),\n",
       " ('USA', '1984', 'Sailing', 13),\n",
       " ('USA', '1984', 'Shooting', 6),\n",
       " ('USA', '1984', 'Volleyball', 24),\n",
       " ('USA', '1984', 'Weightlifting', 2),\n",
       " ('USA', '1984', 'Wrestling', 13),\n",
       " ('USA', '1988', 'Aquatics', 57),\n",
       " ('USA', '1988', 'Archery', 7),\n",
       " ('USA', '1988', 'Athletics', 35),\n",
       " ('USA', '1988', 'Basketball', 24),\n",
       " ('USA', '1988', 'Boxing', 8),\n",
       " ('USA', '1988', 'Canoe / Kayak', 3),\n",
       " ('USA', '1988', 'Cycling', 1),\n",
       " ('USA', '1988', 'Equestrian', 5),\n",
       " ('USA', '1988', 'Gymnastics', 1),\n",
       " ('USA', '1988', 'Judo', 2),\n",
       " ('USA', '1988', 'Rowing', 14),\n",
       " ('USA', '1988', 'Sailing', 10),\n",
       " ('USA', '1988', 'Shooting', 1),\n",
       " ('USA', '1988', 'Tennis', 7),\n",
       " ('USA', '1988', 'Volleyball', 12),\n",
       " ('USA', '1988', 'Wrestling', 6),\n",
       " ('USA', '1992', 'Aquatics', 62),\n",
       " ('USA', '1992', 'Athletics', 48),\n",
       " ('USA', '1992', 'Basketball', 24),\n",
       " ('USA', '1992', 'Boxing', 3),\n",
       " ('USA', '1992', 'Canoe / Kayak', 4),\n",
       " ('USA', '1992', 'Cycling', 2),\n",
       " ('USA', '1992', 'Equestrian', 5),\n",
       " ('USA', '1992', 'Gymnastics', 11),\n",
       " ('USA', '1992', 'Judo', 1),\n",
       " ('USA', '1992', 'Rowing', 10),\n",
       " ('USA', '1992', 'Sailing', 16),\n",
       " ('USA', '1992', 'Shooting', 2),\n",
       " ('USA', '1992', 'Tennis', 4),\n",
       " ('USA', '1992', 'Volleyball', 24),\n",
       " ('USA', '1992', 'Wrestling', 8),\n",
       " ('USA', '1996', 'Aquatics', 72),\n",
       " ('USA', '1996', 'Archery', 4),\n",
       " ('USA', '1996', 'Athletics', 39),\n",
       " ('USA', '1996', 'Baseball', 20),\n",
       " ('USA', '1996', 'Basketball', 24),\n",
       " ('USA', '1996', 'Boxing', 6),\n",
       " ('USA', '1996', 'Canoe / Kayak', 1),\n",
       " ('USA', '1996', 'Cycling', 3),\n",
       " ('USA', '1996', 'Equestrian', 13),\n",
       " ('USA', '1996', 'Football', 16),\n",
       " ('USA', '1996', 'Gymnastics', 11),\n",
       " ('USA', '1996', 'Judo', 1),\n",
       " ('USA', '1996', 'Rowing', 12),\n",
       " ('USA', '1996', 'Sailing', 4),\n",
       " ('USA', '1996', 'Shooting', 3),\n",
       " ('USA', '1996', 'Softball', 15),\n",
       " ('USA', '1996', 'Tennis', 4),\n",
       " ('USA', '1996', 'Volleyball', 4),\n",
       " ('USA', '1996', 'Wrestling', 8),\n",
       " ('USA', '2000', 'Aquatics', 80),\n",
       " ('USA', '2000', 'Archery', 4),\n",
       " ('USA', '2000', 'Athletics', 27),\n",
       " ('USA', '2000', 'Baseball', 24),\n",
       " ('USA', '2000', 'Basketball', 24),\n",
       " ('USA', '2000', 'Boxing', 4),\n",
       " ('USA', '2000', 'Cycling', 3),\n",
       " ('USA', '2000', 'Equestrian', 9),\n",
       " ('USA', '2000', 'Football', 18),\n",
       " ('USA', '2000', 'Gymnastics', 6),\n",
       " ('USA', '2000', 'Modern Pentathlon', 1),\n",
       " ('USA', '2000', 'Rowing', 6),\n",
       " ('USA', '2000', 'Sailing', 8),\n",
       " ('USA', '2000', 'Shooting', 3),\n",
       " ('USA', '2000', 'Softball', 15),\n",
       " ('USA', '2000', 'Taekwondo', 1),\n",
       " ('USA', '2000', 'Tennis', 4),\n",
       " ('USA', '2000', 'Volleyball', 2),\n",
       " ('USA', '2000', 'Weightlifting', 2),\n",
       " ('USA', '2000', 'Wrestling', 7),\n",
       " ('USA', '2004', 'Aquatics', 89),\n",
       " ('USA', '2004', 'Athletics', 38),\n",
       " ('USA', '2004', 'Basketball', 24),\n",
       " ('USA', '2004', 'Boxing', 2),\n",
       " ('USA', '2004', 'Canoe / Kayak', 1),\n",
       " ('USA', '2004', 'Cycling', 3),\n",
       " ('USA', '2004', 'Equestrian', 15),\n",
       " ('USA', '2004', 'Fencing', 2),\n",
       " ('USA', '2004', 'Football', 16),\n",
       " ('USA', '2004', 'Gymnastics', 19),\n",
       " ('USA', '2004', 'Judo', 1),\n",
       " ('USA', '2004', 'Rowing', 18),\n",
       " ('USA', '2004', 'Sailing', 4),\n",
       " ('USA', '2004', 'Shooting', 3),\n",
       " ('USA', '2004', 'Softball', 15),\n",
       " ('USA', '2004', 'Taekwondo', 2),\n",
       " ('USA', '2004', 'Tennis', 1),\n",
       " ('USA', '2004', 'Triathlon', 1),\n",
       " ('USA', '2004', 'Volleyball', 4),\n",
       " ('USA', '2004', 'Wrestling', 6),\n",
       " ('USA', '2008', 'Aquatics', 94),\n",
       " ('USA', '2008', 'Athletics', 29),\n",
       " ('USA', '2008', 'Baseball', 24),\n",
       " ('USA', '2008', 'Basketball', 24),\n",
       " ('USA', '2008', 'Boxing', 1),\n",
       " ('USA', '2008', 'Cycling', 5),\n",
       " ('USA', '2008', 'Equestrian', 6),\n",
       " ('USA', '2008', 'Fencing', 13),\n",
       " ('USA', '2008', 'Football', 18),\n",
       " ('USA', '2008', 'Gymnastics', 20),\n",
       " ('USA', '2008', 'Judo', 1),\n",
       " ('USA', '2008', 'Rowing', 19),\n",
       " ('USA', '2008', 'Sailing', 2),\n",
       " ('USA', '2008', 'Shooting', 6),\n",
       " ('USA', '2008', 'Softball', 15),\n",
       " ('USA', '2008', 'Taekwondo', 3),\n",
       " ('USA', '2008', 'Tennis', 4),\n",
       " ('USA', '2008', 'Volleyball', 28),\n",
       " ('USA', '2008', 'Wrestling', 3)]"
      ]
     },
     "execution_count": 18,
     "metadata": {},
     "output_type": "execute_result"
    }
   ],
   "source": [
    "count = db.session.query(raw.NOC,raw.Edition, raw.Sport, func.count(raw.id)).group_by(raw.Edition,raw.Sport).filter(raw.NOC == 'USA').all()\n",
    "count"
   ]
  },
  {
   "cell_type": "code",
   "execution_count": 17,
   "metadata": {},
   "outputs": [],
   "source": [
    "subq = (db.session.query(raw.country_id,raw.Medal,func.count(raw.id)).group_by(raw.country_id,raw.Medal)).filter(raw.Medal=='Gold').subquery()"
   ]
  },
  {
   "cell_type": "code",
   "execution_count": null,
   "metadata": {},
   "outputs": [],
   "source": [
    "db.session.query(subq).all()"
   ]
  },
  {
   "cell_type": "code",
   "execution_count": 15,
   "metadata": {},
   "outputs": [
    {
     "ename": "NameError",
     "evalue": "name 'subq' is not defined",
     "output_type": "error",
     "traceback": [
      "\u001b[1;31m---------------------------------------------------------------------------\u001b[0m",
      "\u001b[1;31mNameError\u001b[0m                                 Traceback (most recent call last)",
      "\u001b[1;32m<ipython-input-15-52f403ae59d8>\u001b[0m in \u001b[0;36m<module>\u001b[1;34m\u001b[0m\n\u001b[1;32m----> 1\u001b[1;33m \u001b[0mdb\u001b[0m\u001b[1;33m.\u001b[0m\u001b[0msession\u001b[0m\u001b[1;33m.\u001b[0m\u001b[0mquery\u001b[0m\u001b[1;33m(\u001b[0m\u001b[0mcountry_ref\u001b[0m\u001b[1;33m.\u001b[0m\u001b[0mcountry_name\u001b[0m\u001b[1;33m,\u001b[0m \u001b[0mcountry_ref\u001b[0m\u001b[1;33m.\u001b[0m\u001b[0mcode\u001b[0m\u001b[1;33m,\u001b[0m \u001b[0msubq\u001b[0m\u001b[1;33m)\u001b[0m\u001b[1;33m.\u001b[0m\u001b[0mjoin\u001b[0m\u001b[1;33m(\u001b[0m\u001b[0msubq\u001b[0m\u001b[1;33m)\u001b[0m\u001b[1;33m.\u001b[0m\u001b[0mall\u001b[0m\u001b[1;33m(\u001b[0m\u001b[1;33m)\u001b[0m\u001b[1;33m\u001b[0m\u001b[1;33m\u001b[0m\u001b[0m\n\u001b[0m",
      "\u001b[1;31mNameError\u001b[0m: name 'subq' is not defined"
     ]
    }
   ],
   "source": [
    "db.session.query(country_ref.country_name, country_ref.code, subq).join(subq).all()"
   ]
  },
  {
   "cell_type": "code",
   "execution_count": 16,
   "metadata": {},
   "outputs": [
    {
     "ename": "InvalidRequestError",
     "evalue": "SQL expression, column, or mapped entity expected - got '[('HUN', '1896', 'Aquatics', 11), ('USA', '1896', 'Athletics', 37), ('GBR', '1896', 'Cycling', 16), ('GRE', '1896', 'Fencing', 8), ('GER', '1896', 'Gymnastics', 45), ('GRE', '1896', 'Shooting', 15), ('ZZX', '1896', 'Tennis', 10), ('GRE', '1896', 'Weightlifting', 6), ('GRE', '1896', 'Wrestling', 3), ('HUN', '1900', 'Aquatics', 61), ('FRA', '1900', 'Archery', 18), ('AUS', '1900', 'Athletics', 76), ('ESP', '1900', 'Basque Pelota', 4), ('GBR', '1900', 'Cricket', 24), ('FRA', '1900', 'Croquet', 8), ('FRA', '1900', 'Cycling', 6), ('BEL', '1900', 'Equestrian', 9), ('FRA', '1900', 'Fencing', 21), ('BEL', '1900', 'Football', 35), ('GBR', '1900', 'Golf', 6), ('FRA', '1900', 'Gymnastics', 3), ('ZZX', '1900', 'Polo', 12), ('NED', '1900', 'Rowing', 68), ('FRA', '1900', 'Rugby', 47), ('FRA', '1900', 'Sailing', 26), ('FRA', '1900', 'Shooting', 52), ('FRA', '1900', 'Tennis', 24), ('ZZX', '1900', 'Tug of War', 12), ('GER', '1904', 'Aquatics', 43), ('USA', '1904', 'Archery', 30), ('USA', '1904', 'Athletics', 82), ('USA', '1904', 'Boxing', 19), ('USA', '1904', 'Cycling', 21), ('CUB', '1904', 'Fencing', 18), ('USA', '1904', 'Football', 57), ('USA', '1904', 'Golf', 24), ('USA', '1904', 'Gymnastics', 48), ('CAN', '1904', 'Lacrosse', 26), ('USA', '1904', 'Roque', 3), ('USA', '1904', 'Rowing', 45), ('USA', '1904', 'Tennis', 12), ('USA', '1904', 'Tug of War', 15), ('USA', '1904', 'Weightlifting', 6), ('USA', '1904', 'Wrestling', 21), ('SWE', '1908', 'Aquatics', 48), ('FRA', '1908', 'Archery', 9), ('CAN', '1908', 'Athletics', 94), ('GBR', '1908', 'Boxing', 15), ('FRA', '1908', 'Cycling', 30), ('FRA', '1908', 'Fencing', 31), ('NED', '1908', 'Football', 33), ('FRA', '1908', 'Gymnastics', 119), ('GBR', '1908', 'Hockey', 22), ('GBR', '1908', 'Jeu de paume', 3), ('CAN', '1908', 'Lacrosse', 33), ('GBR', '1908', 'Polo', 12), ('GBR', '1908', 'Rackets', 10), ('GER', '1908', 'Rowing', 56), ('ANZ', '1908', 'Rugby', 30), ('GBR', '1908', 'Sailing', 48), ('GBR', '1908', 'Shooting', 113), ('SWE', '1908', 'Skating', 15), ('GBR', '1908', 'Tennis', 24), ('GBR', '1908', 'Tug of War', 27), ('GBR', '1908', 'Water Motorsports', 5), ('CAN', '1908', 'Wrestling', 27), ('SWE', '1912', 'Aquatics', 78), ('FIN', '1912', 'Athletics', 127), ('USA', '1912', 'Cycling', 15), ('SWE', '1912', 'Equestrian', 33), ('BEL', '1912', 'Fencing', 51), ('NED', '1912', 'Football', 33), ('ITA', '1912', 'Gymnastics', 200), ('SWE', '1912', 'Modern Pentathlon', 3), ('NOR', '1912', 'Rowing', 61), ('RU1', '1912', 'Sailing', 73), ('SWE', '1912', 'Shooting', 144), ('FRA', '1912', 'Tennis', 36), ('SWE', '1912', 'Tug of War', 16), ('FIN', '1912', 'Wrestling', 15), ('USA', '1920', 'Aquatics', 87), ('BEL', '1920', 'Archery', 80), ('GBR', '1920', 'Athletics', 117), ('GBR', '1920', 'Boxing', 24), ('FRA', '1920', 'Cycling', 39), ('SWE', '1920', 'Equestrian', 42), ('FRA', '1920', 'Fencing', 76), ('NED', '1920', 'Football', 46), ('FRA', '1920', 'Gymnastics', 202), ('BEL', '1920', 'Hockey', 42), ('TCH', '1920', 'Ice Hockey', 27), ('SWE', '1920', 'Modern Pentathlon', 3), ('USA', '1920', 'Polo', 14), ('FRA', '1920', 'Rowing', 60), ('USA', '1920', 'Rugby', 33), ('NOR', '1920', 'Sailing', 102), ('NOR', '1920', 'Shooting', 198), ('NOR', '1920', 'Skating', 12), ('FRA', '1920', 'Tennis', 24), ('BEL', '1920', 'Tug of War', 24), ('SUI', '1920', 'Weightlifting', 15), ('GBR', '1920', 'Wrestling', 31), ('USA', '1924', 'Aquatics', 109), ('FIN', '1924', 'Athletics', 128), ('USA', '1924', 'Boxing', 24), ('FRA', '1924', 'Cycling', 36), ('FRA', '1924', 'Equestrian', 31), ('SWE', '1924', 'Fencing', 72), ('SWE', '1924', 'Football', 66), ('FRA', '1924', 'Gymnastics', 49), ('SWE', '1924', 'Modern Pentathlon', 3), ('GBR', '1924', 'Polo', 16), ('NED', '1924', 'Rowing', 76), ('ROU', '1924', 'Rugby', 82), ('NED', '1924', 'Sailing', 26), ('SWE', '1924', 'Shooting', 88), ('FRA', '1924', 'Tennis', 24), ('SUI', '1924', 'Weightlifting', 15), ('USA', '1924', 'Wrestling', 39), ('USA', '1928', 'Aquatics', 87), ('SWE', '1928', 'Athletics', 108), ('ITA', '1928', 'Boxing', 24), ('SWE', '1928', 'Cycling', 39), ('SWE', '1928', 'Equestrian', 37), ('USA', '1928', 'Fencing', 47), ('ITA', '1928', 'Football', 66), ('SUI', '1928', 'Gymnastics', 78), ('GER', '1928', 'Hockey', 59), ('GER', '1928', 'Modern Pentathlon', 3), ('USA', '1928', 'Rowing', 78), ('FIN', '1928', 'Sailing', 30), ('GER', '1928', 'Weightlifting', 15), ('CAN', '1928', 'Wrestling', 39), ('USA', '1932', 'Aquatics', 88), ('FIN', '1932', 'Athletics', 114), ('USA', '1932', 'Boxing', 24), ('SWE', '1932', 'Cycling', 36), ('USA', '1932', 'Equestrian', 24), ('ITA', '1932', 'Fencing', 65), ('ITA', '1932', 'Gymnastics', 45), ('USA', '1932', 'Hockey', 34), ('USA', '1932', 'Modern Pentathlon', 3), ('POL', '1932', 'Rowing', 78), ('CAN', '1932', 'Sailing', 41), ('ITA', '1932', 'Shooting', 6), ('USA', '1932', 'Weightlifting', 15), ('FIN', '1932', 'Wrestling', 42), ('GER', '1936', 'Aquatics', 94), ('FIN', '1936', 'Athletics', 114), ('MEX', '1936', 'Basketball', 34), ('USA', '1936', 'Boxing', 24), ('GER', '1936', 'Canoe / Kayak', 42), ('SUI', '1936', 'Cycling', 36), ('AUT', '1936', 'Equestrian', 39), ('ITA', '1936', 'Fencing', 66), ('NOR', '1936', 'Football', 41), ('GER', '1936', 'Gymnastics', 70), ('SUI', '1936', 'Handball', 61), ('NED', '1936', 'Hockey', 53), ('ITA', '1936', 'Modern Pentathlon', 3), ('MEX', '1936', 'Polo', 12), ('ARG', '1936', 'Rowing', 78), ('SWE', '1936', 'Sailing', 42), ('SWE', '1936', 'Shooting', 9), ('EGY', '1936', 'Weightlifting', 15), ('GER', '1936', 'Wrestling', 42), ('MEX', '1948', 'Aquatics', 91), ('SWE', '1948', 'Athletics', 126), ('BRA', '1948', 'Basketball', 40), ('KOR', '1948', 'Boxing', 24), ('CAN', '1948', 'Canoe / Kayak', 39), ('BEL', '1948', 'Cycling', 36), ('SWE', '1948', 'Equestrian', 36), ('ITA', '1948', 'Fencing', 66), ('DEN', '1948', 'Football', 41), ('TCH', '1948', 'Gymnastics', 72), ('NED', '1948', 'Hockey', 44), ('SWE', '1948', 'Modern Pentathlon', 3), ('ITA', '1948', 'Rowing', 78), ('SWE', '1948', 'Sailing', 40), ('SWE', '1948', 'Shooting', 12), ('USA', '1948', 'Weightlifting', 18), ('SWE', '1948', 'Wrestling', 48), ('GER', '1952', 'Aquatics', 96), ('URS', '1952', 'Athletics', 126), ('URU', '1952', 'Basketball', 40), ('URS', '1952', 'Boxing', 40), ('TCH', '1952', 'Canoe / Kayak', 39), ('GER', '1952', 'Cycling', 36), ('FRA', '1952', 'Equestrian', 36), ('SUI', '1952', 'Fencing', 66), ('SWE', '1952', 'Football', 38), ('HUN', '1952', 'Gymnastics', 110), ('GBR', '1952', 'Hockey', 38), ('HUN', '1952', 'Modern Pentathlon', 12), ('SUI', '1952', 'Rowing', 78), ('SWE', '1952', 'Sailing', 44), ('FIN', '1952', 'Shooting', 21), ('IRI', '1952', 'Weightlifting', 21), ('IRI', '1952', 'Wrestling', 48), ('USA', '1956', 'Aquatics', 98), ('AUS', '1956', 'Athletics', 127), ('URU', '1956', 'Basketball', 36), ('IRL', '1956', 'Boxing', 40), ('URS', '1956', 'Canoe / Kayak', 39), ('GBR', '1956', 'Cycling', 36), ('SWE', '1956', 'Equestrian', 43), ('ITA', '1956', 'Fencing', 64), ('BUL', '1956', 'Football', 46), ('HUN', '1956', 'Gymnastics', 100), ('EUA', '1956', 'Hockey', 42), ('FIN', '1956', 'Modern Pentathlon', 12), ('AUT', '1956', 'Rowing', 78), ('AUS', '1956', 'Sailing', 34), ('URS', '1956', 'Shooting', 21), ('IRI', '1956', 'Weightlifting', 21), ('TUR', '1956', 'Wrestling', 48), ('GBR', '1960', 'Aquatics', 128), ('AUS', '1960', 'Athletics', 129), ('BRA', '1960', 'Basketball', 36), ('EGY', '1960', 'Boxing', 40), ('ROU', '1960', 'Canoe / Kayak', 39), ('BEL', '1960', 'Cycling', 39), ('EUA', '1960', 'Equestrian', 27), ('URS', '1960', 'Fencing', 76), ('HUN', '1960', 'Football', 45), ('URS', '1960', 'Gymnastics', 73), ('ESP', '1960', 'Hockey', 40), ('USA', '1960', 'Modern Pentathlon', 12), ('FIN', '1960', 'Rowing', 78), ('SUI', '1960', 'Sailing', 33), ('URS', '1960', 'Shooting', 18), ('IRI', '1960', 'Weightlifting', 21), ('IRI', '1960', 'Wrestling', 48), ('USA', '1964', 'Aquatics', 145), ('AUS', '1964', 'Athletics', 135), ('BRA', '1964', 'Basketball', 36), ('USA', '1964', 'Boxing', 40), ('URS', '1964', 'Canoe / Kayak', 39), ('BEL', '1964', 'Cycling', 42), ('URS', '1964', 'Equestrian', 36), ('URS', '1964', 'Fencing', 71), ('EUA', '1964', 'Football', 50), ('URS', '1964', 'Gymnastics', 73), ('AUS', '1964', 'Hockey', 45), ('URS', '1964', 'Judo', 16), ('URS', '1964', 'Modern Pentathlon', 12), ('EUA', '1964', 'Rowing', 78), ('USA', '1964', 'Sailing', 33), ('TCH', '1964', 'Shooting', 18), ('JPN', '1964', 'Volleyball', 72), ('JPN', '1964', 'Weightlifting', 21), ('IRI', '1964', 'Wrestling', 48), ('USA', '1968', 'Aquatics', 177), ('TUN', '1968', 'Athletics', 135), ('URS', '1968', 'Basketball', 36), ('USA', '1968', 'Boxing', 44), ('URS', '1968', 'Canoe / Kayak', 39), ('SWE', '1968', 'Cycling', 42), ('FRG', '1968', 'Equestrian', 36), ('ITA', '1968', 'Fencing', 72), ('JPN', '1968', 'Football', 51), ('URS', '1968', 'Gymnastics', 72), ('IND', '1968', 'Hockey', 42), ('URS', '1968', 'Modern Pentathlon', 12), ('DEN', '1968', 'Rowing', 78), ('GBR', '1968', 'Sailing', 33), ('URS', '1968', 'Shooting', 21), ('TCH', '1968', 'Volleyball', 72), ('POL', '1968', 'Weightlifting', 21), ('MGL', '1968', 'Wrestling', 48), ('ITA', '1972', 'Aquatics', 177), ('FIN', '1972', 'Archery', 6), ('ETH', '1972', 'Athletics', 150), ('CUB', '1972', 'Basketball', 36), ('GBR', '1972', 'Boxing', 44), ('FRG', '1972', 'Canoe / Kayak', 54), ('NED', '1972', 'Cycling', 37), ('FRG', '1972', 'Equestrian', 42), ('HUN', '1972', 'Fencing', 71), ('URS', '1972', 'Football', 70), ('GDR', '1972', 'Gymnastics', 72), ('ROU', '1972', 'Handball', 45), ('IND', '1972', 'Hockey', 47), ('PRK', '1972', 'Judo', 23), ('URS', '1972', 'Modern Pentathlon', 12), ('NED', '1972', 'Rowing', 78), ('USA', '1972', 'Sailing', 39), ('URS', '1972', 'Shooting', 24), ('URS', '1972', 'Volleyball', 71), ('HUN', '1972', 'Weightlifting', 27), ('IRI', '1972', 'Wrestling', 60), ('URS', '1976', 'Aquatics', 159), ('ITA', '1976', 'Archery', 6), ('GBR', '1976', 'Athletics', 147), ('URS', '1976', 'Basketball', 72), ('PUR', '1976', 'Boxing', 44), ('HUN', '1976', 'Canoe / Kayak', 57), ('POL', '1976', 'Cycling', 36), ('FRG', '1976', 'Equestrian', 42), ('HUN', '1976', 'Fencing', 71), ('URS', '1976', 'Football', 51), ('ROU', '1976', 'Gymnastics', 74), ('POL', '1976', 'Handball', 84), ('PAK', '1976', 'Hockey', 48), ('ITA', '1976', 'Judo', 24), ('TCH', '1976', 'Modern Pentathlon', 12), ('FRG', '1976', 'Rowing', 162), ('AUS', '1976', 'Sailing', 36), ('ITA', '1976', 'Shooting', 21), ('CUB', '1976', 'Volleyball', 72), ('IRI', '1976', 'Weightlifting', 27), ('JPN', '1976', 'Wrestling', 60), ('URS', '1980', 'Aquatics', 159), ('ITA', '1980', 'Archery', 6), ('ETH', '1980', 'Athletics', 150), ('URS', '1980', 'Basketball', 72), ('PRK', '1980', 'Boxing', 44), ('GDR', '1980', 'Canoe / Kayak', 57), ('URS', '1980', 'Cycling', 36), ('URS', '1980', 'Equestrian', 62), ('FRA', '1980', 'Fencing', 70), ('URS', '1980', 'Football', 51), ('URS', '1980', 'Gymnastics', 75), ('ROU', '1980', 'Handball', 84), ('URS', '1980', 'Hockey', 96), ('URS', '1980', 'Judo', 32), ('URS', '1980', 'Modern Pentathlon', 12), ('GBR', '1980', 'Rowing', 162), ('FIN', '1980', 'Sailing', 36), ('AUT', '1980', 'Shooting', 21), ('ROU', '1980', 'Volleyball', 72), ('PRK', '1980', 'Weightlifting', 30), ('URS', '1980', 'Wrestling', 60), ('CHN', '1984', 'Aquatics', 192), ('JPN', '1984', 'Archery', 6), ('KEN', '1984', 'Athletics', 161), ('YUG', '1984', 'Basketball', 72), ('VEN', '1984', 'Boxing', 48), ('DEN', '1984', 'Canoe / Kayak', 69), ('NOR', '1984', 'Cycling', 42), ('SUI', '1984', 'Equestrian', 47), ('FRA', '1984', 'Fencing', 72), ('YUG', '1984', 'Football', 51), ('USA', '1984', 'Gymnastics', 78), ('ROU', '1984', 'Handball', 85), ('GBR', '1984', 'Hockey', 96), ('GBR', '1984', 'Judo', 32), ('ITA', '1984', 'Modern Pentathlon', 12), ('NOR', '1984', 'Rowing', 162), ('FRA', '1984', 'Sailing', 39), ('CHN', '1984', 'Shooting', 33), ('ITA', '1984', 'Volleyball', 72), ('JPN', '1984', 'Weightlifting', 30), ('KOR', '1984', 'Wrestling', 60), ('MEX', '1988', 'Aquatics', 202), ('URS', '1988', 'Archery', 24), ('KEN', '1988', 'Athletics', 163), ('USA', '1988', 'Basketball', 72), ('HUN', '1988', 'Boxing', 48), ('BUL', '1988', 'Canoe / Kayak', 69), ('FRG', '1988', 'Cycling', 45), ('SUI', '1988', 'Equestrian', 45), ('URS', '1988', 'Fencing', 72), ('FRG', '1988', 'Football', 61), ('USA', '1988', 'Gymnastics', 78), ('YUG', '1988', 'Handball', 84), ('NED', '1988', 'Hockey', 96), ('JPN', '1988', 'Judo', 28), ('URS', '1988', 'Modern Pentathlon', 12), ('YUG', '1988', 'Rowing', 159), ('USA', '1988', 'Sailing', 45), ('URS', '1988', 'Shooting', 39), ('KOR', '1988', 'Table Tennis', 18), ('SWE', '1988', 'Tennis', 24), ('ARG', '1988', 'Volleyball', 72), ('CHN', '1988', 'Weightlifting', 30), ('URS', '1988', 'Wrestling', 60), ('CHN', '1992', 'Aquatics', 228), ('GBR', '1992', 'Archery', 24), ('ETH', '1992', 'Athletics', 178), ('CHN', '1992', 'Badminton', 24), ('JPN', '1992', 'Baseball', 60), ('LTU', '1992', 'Basketball', 72), ('GER', '1992', 'Boxing', 48), ('HUN', '1992', 'Canoe / Kayak', 84), ('LAT', '1992', 'Cycling', 50), ('GER', '1992', 'Equestrian', 45), ('FRA', '1992', 'Fencing', 72), ('GHA', '1992', 'Football', 37), ('EUN', '1992', 'Gymnastics', 80), ('FRA', '1992', 'Handball', 84), ('PAK', '1992', 'Hockey', 96), ('CUB', '1992', 'Judo', 56), ('EUN', '1992', 'Modern Pentathlon', 12), ('GER', '1992', 'Rowing', 156), ('EST', '1992', 'Sailing', 51), ('BUL', '1992', 'Shooting', 39), ('KOR', '1992', 'Table Tennis', 24), ('ARG', '1992', 'Tennis', 24), ('USA', '1992', 'Volleyball', 72), ('ROU', '1992', 'Weightlifting', 29), ('EUN', '1992', 'Wrestling', 60), ('CHN', '1996', 'Aquatics', 262), ('KOR', '1996', 'Archery', 24), ('MAR', '1996', 'Athletics', 180), ('INA', '1996', 'Badminton', 24), ('USA', '1996', 'Baseball', 60), ('LTU', '1996', 'Basketball', 72), ('UKR', '1996', 'Boxing', 48), ('HUN', '1996', 'Canoe / Kayak', 84), ('GBR', '1996', 'Cycling', 52), ('NED', '1996', 'Equestrian', 45), ('HUN', '1996', 'Fencing', 60), ('BRA', '1996', 'Football', 104), ('ROU', '1996', 'Gymnastics', 101), ('ESP', '1996', 'Handball', 96), ('AUS', '1996', 'Hockey', 96), ('CUB', '1996', 'Judo', 56), ('HUN', '1996', 'Modern Pentathlon', 3), ('FRA', '1996', 'Rowing', 144), ('POR', '1996', 'Sailing', 48), ('BUL', '1996', 'Shooting', 45), ('AUS', '1996', 'Softball', 45), ('KOR', '1996', 'Table Tennis', 18), ('GER', '1996', 'Tennis', 18), ('CAN', '1996', 'Volleyball', 84), ('BUL', '1996', 'Weightlifting', 30), ('CUB', '1996', 'Wrestling', 60), ('RUS', '2000', 'Aquatics', 329), ('NED', '2000', 'Archery', 24), ('ETH', '2000', 'Athletics', 184), ('KOR', '2000', 'Badminton', 24), ('KOR', '2000', 'Baseball', 72), ('LTU', '2000', 'Basketball', 72), ('PRK', '2000', 'Boxing', 48), ('CAN', '2000', 'Canoe / Kayak', 84), ('GER', '2000', 'Cycling', 75), ('GER', '2000', 'Equestrian', 45), ('KOR', '2000', 'Fencing', 66), ('CHI', '2000', 'Football', 108), ('RUS', '2000', 'Gymnastics', 99), ('ESP', '2000', 'Handball', 90), ('AUS', '2000', 'Hockey', 96), ('GER', '2000', 'Judo', 56), ('BLR', '2000', 'Modern Pentathlon', 6), ('AUS', '2000', 'Rowing', 144), ('ARG', '2000', 'Sailing', 54), ('AUS', '2000', 'Shooting', 51), ('AUS', '2000', 'Softball', 45), ('FRA', '2000', 'Table Tennis', 18), ('TPE', '2000', 'Taekwondo', 24), ('ESP', '2000', 'Tennis', 18), ('CZE', '2000', 'Triathlon', 6), ('GER', '2000', 'Volleyball', 84), ('RUS', '2000', 'Weightlifting', 45), ('GRE', '2000', 'Wrestling', 48), ('CHN', '2004', 'Aquatics', 332), ('AUS', '2004', 'Archery', 24), ('ERI', '2004', 'Athletics', 183), ('INA', '2004', 'Badminton', 24), ('JPN', '2004', 'Baseball', 71), ('USA', '2004', 'Basketball', 70), ('ITA', '2004', 'Boxing', 44), ('HUN', '2004', 'Canoe / Kayak', 84), ('BEL', '2004', 'Cycling', 76), ('ESP', '2004', 'Equestrian', 47), ('RUS', '2004', 'Fencing', 61), ('ITA', '2004', 'Football', 98), ('ROU', '2004', 'Gymnastics', 99), ('RUS', '2004', 'Handball', 88), ('GER', '2004', 'Hockey', 95), ('CHN', '2004', 'Judo', 56), ('CZE', '2004', 'Modern Pentathlon', 6), ('RSA', '2004', 'Rowing', 144), ('JPN', '2004', 'Sailing', 54), ('BUL', '2004', 'Shooting', 51), ('JPN', '2004', 'Softball', 45), ('DEN', '2004', 'Table Tennis', 18), ('THA', '2004', 'Taekwondo', 24), ('CRO', '2004', 'Tennis', 16), ('SUI', '2004', 'Triathlon', 6), ('SUI', '2004', 'Volleyball', 83), ('TUR', '2004', 'Weightlifting', 45), ('USA', '2004', 'Wrestling', 54), ('RUS', '2008', 'Aquatics', 347), ('RUS', '2008', 'Archery', 24), ('KEN', '2008', 'Athletics', 177), ('KOR', '2008', 'Badminton', 24), ('USA', '2008', 'Baseball', 72), ('ARG', '2008', 'Basketball', 72), ('UKR', '2008', 'Boxing', 44), ('CAN', '2008', 'Canoe / Kayak', 84), ('USA', '2008', 'Cycling', 71), ('GER', '2008', 'Equestrian', 45), ('ESP', '2008', 'Fencing', 62), ('BRA', '2008', 'Football', 108), ('CHN', '2008', 'Gymnastics', 99), ('ESP', '2008', 'Handball', 85), ('AUS', '2008', 'Hockey', 98), ('ARG', '2008', 'Judo', 56), ('LTU', '2008', 'Modern Pentathlon', 6), ('NZL', '2008', 'Rowing', 144), ('FRA', '2008', 'Sailing', 54), ('GEO', '2008', 'Shooting', 45), ('AUS', '2008', 'Softball', 45), ('CHN', '2008', 'Table Tennis', 24), ('VEN', '2008', 'Taekwondo', 32), ('USA', '2008', 'Tennis', 18), ('NZL', '2008', 'Triathlon', 6), ('BRA', '2008', 'Volleyball', 84), ('INA', '2008', 'Weightlifting', 45), ('UKR', '2008', 'Wrestling', 71)]'",
     "output_type": "error",
     "traceback": [
      "\u001b[1;31m---------------------------------------------------------------------------\u001b[0m",
      "\u001b[1;31mInvalidRequestError\u001b[0m                       Traceback (most recent call last)",
      "\u001b[1;32m<ipython-input-16-633e38f2e4c4>\u001b[0m in \u001b[0;36m<module>\u001b[1;34m\u001b[0m\n\u001b[1;32m----> 1\u001b[1;33m \u001b[0mdb\u001b[0m\u001b[1;33m.\u001b[0m\u001b[0msession\u001b[0m\u001b[1;33m.\u001b[0m\u001b[0mquery\u001b[0m\u001b[1;33m(\u001b[0m\u001b[0mcountry_ref\u001b[0m\u001b[1;33m,\u001b[0m\u001b[0mcount\u001b[0m\u001b[1;33m)\u001b[0m\u001b[1;33m.\u001b[0m\u001b[0mfilter\u001b[0m\u001b[1;33m(\u001b[0m\u001b[0mcountry_ref\u001b[0m\u001b[1;33m.\u001b[0m\u001b[0mid\u001b[0m \u001b[1;33m==\u001b[0m \u001b[0mcount\u001b[0m\u001b[1;33m.\u001b[0m\u001b[0mcountry_id\u001b[0m\u001b[1;33m)\u001b[0m\u001b[1;33m.\u001b[0m\u001b[0mall\u001b[0m\u001b[1;33m(\u001b[0m\u001b[1;33m)\u001b[0m\u001b[1;33m\u001b[0m\u001b[1;33m\u001b[0m\u001b[0m\n\u001b[0m",
      "\u001b[1;32m~\\Anaconda3\\lib\\site-packages\\sqlalchemy\\orm\\scoping.py\u001b[0m in \u001b[0;36mdo\u001b[1;34m(self, *args, **kwargs)\u001b[0m\n\u001b[0;32m    160\u001b[0m \u001b[1;32mdef\u001b[0m \u001b[0minstrument\u001b[0m\u001b[1;33m(\u001b[0m\u001b[0mname\u001b[0m\u001b[1;33m)\u001b[0m\u001b[1;33m:\u001b[0m\u001b[1;33m\u001b[0m\u001b[1;33m\u001b[0m\u001b[0m\n\u001b[0;32m    161\u001b[0m     \u001b[1;32mdef\u001b[0m \u001b[0mdo\u001b[0m\u001b[1;33m(\u001b[0m\u001b[0mself\u001b[0m\u001b[1;33m,\u001b[0m \u001b[1;33m*\u001b[0m\u001b[0margs\u001b[0m\u001b[1;33m,\u001b[0m \u001b[1;33m**\u001b[0m\u001b[0mkwargs\u001b[0m\u001b[1;33m)\u001b[0m\u001b[1;33m:\u001b[0m\u001b[1;33m\u001b[0m\u001b[1;33m\u001b[0m\u001b[0m\n\u001b[1;32m--> 162\u001b[1;33m         \u001b[1;32mreturn\u001b[0m \u001b[0mgetattr\u001b[0m\u001b[1;33m(\u001b[0m\u001b[0mself\u001b[0m\u001b[1;33m.\u001b[0m\u001b[0mregistry\u001b[0m\u001b[1;33m(\u001b[0m\u001b[1;33m)\u001b[0m\u001b[1;33m,\u001b[0m \u001b[0mname\u001b[0m\u001b[1;33m)\u001b[0m\u001b[1;33m(\u001b[0m\u001b[1;33m*\u001b[0m\u001b[0margs\u001b[0m\u001b[1;33m,\u001b[0m \u001b[1;33m**\u001b[0m\u001b[0mkwargs\u001b[0m\u001b[1;33m)\u001b[0m\u001b[1;33m\u001b[0m\u001b[1;33m\u001b[0m\u001b[0m\n\u001b[0m\u001b[0;32m    163\u001b[0m \u001b[1;33m\u001b[0m\u001b[0m\n\u001b[0;32m    164\u001b[0m     \u001b[1;32mreturn\u001b[0m \u001b[0mdo\u001b[0m\u001b[1;33m\u001b[0m\u001b[1;33m\u001b[0m\u001b[0m\n",
      "\u001b[1;32m~\\Anaconda3\\lib\\site-packages\\sqlalchemy\\orm\\session.py\u001b[0m in \u001b[0;36mquery\u001b[1;34m(self, *entities, **kwargs)\u001b[0m\n\u001b[0;32m   1521\u001b[0m         :class:`.Session`.\"\"\"\n\u001b[0;32m   1522\u001b[0m \u001b[1;33m\u001b[0m\u001b[0m\n\u001b[1;32m-> 1523\u001b[1;33m         \u001b[1;32mreturn\u001b[0m \u001b[0mself\u001b[0m\u001b[1;33m.\u001b[0m\u001b[0m_query_cls\u001b[0m\u001b[1;33m(\u001b[0m\u001b[0mentities\u001b[0m\u001b[1;33m,\u001b[0m \u001b[0mself\u001b[0m\u001b[1;33m,\u001b[0m \u001b[1;33m**\u001b[0m\u001b[0mkwargs\u001b[0m\u001b[1;33m)\u001b[0m\u001b[1;33m\u001b[0m\u001b[1;33m\u001b[0m\u001b[0m\n\u001b[0m\u001b[0;32m   1524\u001b[0m \u001b[1;33m\u001b[0m\u001b[0m\n\u001b[0;32m   1525\u001b[0m     \u001b[1;33m@\u001b[0m\u001b[0mproperty\u001b[0m\u001b[1;33m\u001b[0m\u001b[1;33m\u001b[0m\u001b[0m\n",
      "\u001b[1;32m~\\Anaconda3\\lib\\site-packages\\sqlalchemy\\orm\\query.py\u001b[0m in \u001b[0;36m__init__\u001b[1;34m(self, entities, session)\u001b[0m\n\u001b[0;32m    165\u001b[0m         \u001b[0mself\u001b[0m\u001b[1;33m.\u001b[0m\u001b[0msession\u001b[0m \u001b[1;33m=\u001b[0m \u001b[0msession\u001b[0m\u001b[1;33m\u001b[0m\u001b[1;33m\u001b[0m\u001b[0m\n\u001b[0;32m    166\u001b[0m         \u001b[0mself\u001b[0m\u001b[1;33m.\u001b[0m\u001b[0m_polymorphic_adapters\u001b[0m \u001b[1;33m=\u001b[0m \u001b[1;33m{\u001b[0m\u001b[1;33m}\u001b[0m\u001b[1;33m\u001b[0m\u001b[1;33m\u001b[0m\u001b[0m\n\u001b[1;32m--> 167\u001b[1;33m         \u001b[0mself\u001b[0m\u001b[1;33m.\u001b[0m\u001b[0m_set_entities\u001b[0m\u001b[1;33m(\u001b[0m\u001b[0mentities\u001b[0m\u001b[1;33m)\u001b[0m\u001b[1;33m\u001b[0m\u001b[1;33m\u001b[0m\u001b[0m\n\u001b[0m\u001b[0;32m    168\u001b[0m \u001b[1;33m\u001b[0m\u001b[0m\n\u001b[0;32m    169\u001b[0m     \u001b[1;32mdef\u001b[0m \u001b[0m_set_entities\u001b[0m\u001b[1;33m(\u001b[0m\u001b[0mself\u001b[0m\u001b[1;33m,\u001b[0m \u001b[0mentities\u001b[0m\u001b[1;33m,\u001b[0m \u001b[0mentity_wrapper\u001b[0m\u001b[1;33m=\u001b[0m\u001b[1;32mNone\u001b[0m\u001b[1;33m)\u001b[0m\u001b[1;33m:\u001b[0m\u001b[1;33m\u001b[0m\u001b[1;33m\u001b[0m\u001b[0m\n",
      "\u001b[1;32m~\\Anaconda3\\lib\\site-packages\\sqlalchemy\\orm\\query.py\u001b[0m in \u001b[0;36m_set_entities\u001b[1;34m(self, entities, entity_wrapper)\u001b[0m\n\u001b[0;32m    195\u001b[0m         \u001b[1;32mif\u001b[0m \u001b[0mentities\u001b[0m \u001b[1;32mis\u001b[0m \u001b[1;32mnot\u001b[0m \u001b[1;33m(\u001b[0m\u001b[1;33m)\u001b[0m\u001b[1;33m:\u001b[0m\u001b[1;33m\u001b[0m\u001b[1;33m\u001b[0m\u001b[0m\n\u001b[0;32m    196\u001b[0m             \u001b[1;32mfor\u001b[0m \u001b[0ment\u001b[0m \u001b[1;32min\u001b[0m \u001b[0mutil\u001b[0m\u001b[1;33m.\u001b[0m\u001b[0mto_list\u001b[0m\u001b[1;33m(\u001b[0m\u001b[0mentities\u001b[0m\u001b[1;33m)\u001b[0m\u001b[1;33m:\u001b[0m\u001b[1;33m\u001b[0m\u001b[1;33m\u001b[0m\u001b[0m\n\u001b[1;32m--> 197\u001b[1;33m                 \u001b[0mentity_wrapper\u001b[0m\u001b[1;33m(\u001b[0m\u001b[0mself\u001b[0m\u001b[1;33m,\u001b[0m \u001b[0ment\u001b[0m\u001b[1;33m)\u001b[0m\u001b[1;33m\u001b[0m\u001b[1;33m\u001b[0m\u001b[0m\n\u001b[0m\u001b[0;32m    198\u001b[0m \u001b[1;33m\u001b[0m\u001b[0m\n\u001b[0;32m    199\u001b[0m             \u001b[0mself\u001b[0m\u001b[1;33m.\u001b[0m\u001b[0m_set_entity_selectables\u001b[0m\u001b[1;33m(\u001b[0m\u001b[0mself\u001b[0m\u001b[1;33m.\u001b[0m\u001b[0m_entities\u001b[0m\u001b[1;33m)\u001b[0m\u001b[1;33m\u001b[0m\u001b[1;33m\u001b[0m\u001b[0m\n",
      "\u001b[1;32m~\\Anaconda3\\lib\\site-packages\\sqlalchemy\\orm\\query.py\u001b[0m in \u001b[0;36m__init__\u001b[1;34m(self, query, column, namespace)\u001b[0m\n\u001b[0;32m   4242\u001b[0m             raise sa_exc.InvalidRequestError(\n\u001b[0;32m   4243\u001b[0m                 \u001b[1;34m\"SQL expression, column, or mapped entity \"\u001b[0m\u001b[1;33m\u001b[0m\u001b[1;33m\u001b[0m\u001b[0m\n\u001b[1;32m-> 4244\u001b[1;33m                 \u001b[1;34m\"expected - got '%r'\"\u001b[0m \u001b[1;33m%\u001b[0m \u001b[1;33m(\u001b[0m\u001b[0mcolumn\u001b[0m\u001b[1;33m,\u001b[0m\u001b[1;33m)\u001b[0m\u001b[1;33m\u001b[0m\u001b[1;33m\u001b[0m\u001b[0m\n\u001b[0m\u001b[0;32m   4245\u001b[0m             )\n\u001b[0;32m   4246\u001b[0m         \u001b[1;32melif\u001b[0m \u001b[1;32mnot\u001b[0m \u001b[0mcheck_column\u001b[0m\u001b[1;33m:\u001b[0m\u001b[1;33m\u001b[0m\u001b[1;33m\u001b[0m\u001b[0m\n",
      "\u001b[1;31mInvalidRequestError\u001b[0m: SQL expression, column, or mapped entity expected - got '[('HUN', '1896', 'Aquatics', 11), ('USA', '1896', 'Athletics', 37), ('GBR', '1896', 'Cycling', 16), ('GRE', '1896', 'Fencing', 8), ('GER', '1896', 'Gymnastics', 45), ('GRE', '1896', 'Shooting', 15), ('ZZX', '1896', 'Tennis', 10), ('GRE', '1896', 'Weightlifting', 6), ('GRE', '1896', 'Wrestling', 3), ('HUN', '1900', 'Aquatics', 61), ('FRA', '1900', 'Archery', 18), ('AUS', '1900', 'Athletics', 76), ('ESP', '1900', 'Basque Pelota', 4), ('GBR', '1900', 'Cricket', 24), ('FRA', '1900', 'Croquet', 8), ('FRA', '1900', 'Cycling', 6), ('BEL', '1900', 'Equestrian', 9), ('FRA', '1900', 'Fencing', 21), ('BEL', '1900', 'Football', 35), ('GBR', '1900', 'Golf', 6), ('FRA', '1900', 'Gymnastics', 3), ('ZZX', '1900', 'Polo', 12), ('NED', '1900', 'Rowing', 68), ('FRA', '1900', 'Rugby', 47), ('FRA', '1900', 'Sailing', 26), ('FRA', '1900', 'Shooting', 52), ('FRA', '1900', 'Tennis', 24), ('ZZX', '1900', 'Tug of War', 12), ('GER', '1904', 'Aquatics', 43), ('USA', '1904', 'Archery', 30), ('USA', '1904', 'Athletics', 82), ('USA', '1904', 'Boxing', 19), ('USA', '1904', 'Cycling', 21), ('CUB', '1904', 'Fencing', 18), ('USA', '1904', 'Football', 57), ('USA', '1904', 'Golf', 24), ('USA', '1904', 'Gymnastics', 48), ('CAN', '1904', 'Lacrosse', 26), ('USA', '1904', 'Roque', 3), ('USA', '1904', 'Rowing', 45), ('USA', '1904', 'Tennis', 12), ('USA', '1904', 'Tug of War', 15), ('USA', '1904', 'Weightlifting', 6), ('USA', '1904', 'Wrestling', 21), ('SWE', '1908', 'Aquatics', 48), ('FRA', '1908', 'Archery', 9), ('CAN', '1908', 'Athletics', 94), ('GBR', '1908', 'Boxing', 15), ('FRA', '1908', 'Cycling', 30), ('FRA', '1908', 'Fencing', 31), ('NED', '1908', 'Football', 33), ('FRA', '1908', 'Gymnastics', 119), ('GBR', '1908', 'Hockey', 22), ('GBR', '1908', 'Jeu de paume', 3), ('CAN', '1908', 'Lacrosse', 33), ('GBR', '1908', 'Polo', 12), ('GBR', '1908', 'Rackets', 10), ('GER', '1908', 'Rowing', 56), ('ANZ', '1908', 'Rugby', 30), ('GBR', '1908', 'Sailing', 48), ('GBR', '1908', 'Shooting', 113), ('SWE', '1908', 'Skating', 15), ('GBR', '1908', 'Tennis', 24), ('GBR', '1908', 'Tug of War', 27), ('GBR', '1908', 'Water Motorsports', 5), ('CAN', '1908', 'Wrestling', 27), ('SWE', '1912', 'Aquatics', 78), ('FIN', '1912', 'Athletics', 127), ('USA', '1912', 'Cycling', 15), ('SWE', '1912', 'Equestrian', 33), ('BEL', '1912', 'Fencing', 51), ('NED', '1912', 'Football', 33), ('ITA', '1912', 'Gymnastics', 200), ('SWE', '1912', 'Modern Pentathlon', 3), ('NOR', '1912', 'Rowing', 61), ('RU1', '1912', 'Sailing', 73), ('SWE', '1912', 'Shooting', 144), ('FRA', '1912', 'Tennis', 36), ('SWE', '1912', 'Tug of War', 16), ('FIN', '1912', 'Wrestling', 15), ('USA', '1920', 'Aquatics', 87), ('BEL', '1920', 'Archery', 80), ('GBR', '1920', 'Athletics', 117), ('GBR', '1920', 'Boxing', 24), ('FRA', '1920', 'Cycling', 39), ('SWE', '1920', 'Equestrian', 42), ('FRA', '1920', 'Fencing', 76), ('NED', '1920', 'Football', 46), ('FRA', '1920', 'Gymnastics', 202), ('BEL', '1920', 'Hockey', 42), ('TCH', '1920', 'Ice Hockey', 27), ('SWE', '1920', 'Modern Pentathlon', 3), ('USA', '1920', 'Polo', 14), ('FRA', '1920', 'Rowing', 60), ('USA', '1920', 'Rugby', 33), ('NOR', '1920', 'Sailing', 102), ('NOR', '1920', 'Shooting', 198), ('NOR', '1920', 'Skating', 12), ('FRA', '1920', 'Tennis', 24), ('BEL', '1920', 'Tug of War', 24), ('SUI', '1920', 'Weightlifting', 15), ('GBR', '1920', 'Wrestling', 31), ('USA', '1924', 'Aquatics', 109), ('FIN', '1924', 'Athletics', 128), ('USA', '1924', 'Boxing', 24), ('FRA', '1924', 'Cycling', 36), ('FRA', '1924', 'Equestrian', 31), ('SWE', '1924', 'Fencing', 72), ('SWE', '1924', 'Football', 66), ('FRA', '1924', 'Gymnastics', 49), ('SWE', '1924', 'Modern Pentathlon', 3), ('GBR', '1924', 'Polo', 16), ('NED', '1924', 'Rowing', 76), ('ROU', '1924', 'Rugby', 82), ('NED', '1924', 'Sailing', 26), ('SWE', '1924', 'Shooting', 88), ('FRA', '1924', 'Tennis', 24), ('SUI', '1924', 'Weightlifting', 15), ('USA', '1924', 'Wrestling', 39), ('USA', '1928', 'Aquatics', 87), ('SWE', '1928', 'Athletics', 108), ('ITA', '1928', 'Boxing', 24), ('SWE', '1928', 'Cycling', 39), ('SWE', '1928', 'Equestrian', 37), ('USA', '1928', 'Fencing', 47), ('ITA', '1928', 'Football', 66), ('SUI', '1928', 'Gymnastics', 78), ('GER', '1928', 'Hockey', 59), ('GER', '1928', 'Modern Pentathlon', 3), ('USA', '1928', 'Rowing', 78), ('FIN', '1928', 'Sailing', 30), ('GER', '1928', 'Weightlifting', 15), ('CAN', '1928', 'Wrestling', 39), ('USA', '1932', 'Aquatics', 88), ('FIN', '1932', 'Athletics', 114), ('USA', '1932', 'Boxing', 24), ('SWE', '1932', 'Cycling', 36), ('USA', '1932', 'Equestrian', 24), ('ITA', '1932', 'Fencing', 65), ('ITA', '1932', 'Gymnastics', 45), ('USA', '1932', 'Hockey', 34), ('USA', '1932', 'Modern Pentathlon', 3), ('POL', '1932', 'Rowing', 78), ('CAN', '1932', 'Sailing', 41), ('ITA', '1932', 'Shooting', 6), ('USA', '1932', 'Weightlifting', 15), ('FIN', '1932', 'Wrestling', 42), ('GER', '1936', 'Aquatics', 94), ('FIN', '1936', 'Athletics', 114), ('MEX', '1936', 'Basketball', 34), ('USA', '1936', 'Boxing', 24), ('GER', '1936', 'Canoe / Kayak', 42), ('SUI', '1936', 'Cycling', 36), ('AUT', '1936', 'Equestrian', 39), ('ITA', '1936', 'Fencing', 66), ('NOR', '1936', 'Football', 41), ('GER', '1936', 'Gymnastics', 70), ('SUI', '1936', 'Handball', 61), ('NED', '1936', 'Hockey', 53), ('ITA', '1936', 'Modern Pentathlon', 3), ('MEX', '1936', 'Polo', 12), ('ARG', '1936', 'Rowing', 78), ('SWE', '1936', 'Sailing', 42), ('SWE', '1936', 'Shooting', 9), ('EGY', '1936', 'Weightlifting', 15), ('GER', '1936', 'Wrestling', 42), ('MEX', '1948', 'Aquatics', 91), ('SWE', '1948', 'Athletics', 126), ('BRA', '1948', 'Basketball', 40), ('KOR', '1948', 'Boxing', 24), ('CAN', '1948', 'Canoe / Kayak', 39), ('BEL', '1948', 'Cycling', 36), ('SWE', '1948', 'Equestrian', 36), ('ITA', '1948', 'Fencing', 66), ('DEN', '1948', 'Football', 41), ('TCH', '1948', 'Gymnastics', 72), ('NED', '1948', 'Hockey', 44), ('SWE', '1948', 'Modern Pentathlon', 3), ('ITA', '1948', 'Rowing', 78), ('SWE', '1948', 'Sailing', 40), ('SWE', '1948', 'Shooting', 12), ('USA', '1948', 'Weightlifting', 18), ('SWE', '1948', 'Wrestling', 48), ('GER', '1952', 'Aquatics', 96), ('URS', '1952', 'Athletics', 126), ('URU', '1952', 'Basketball', 40), ('URS', '1952', 'Boxing', 40), ('TCH', '1952', 'Canoe / Kayak', 39), ('GER', '1952', 'Cycling', 36), ('FRA', '1952', 'Equestrian', 36), ('SUI', '1952', 'Fencing', 66), ('SWE', '1952', 'Football', 38), ('HUN', '1952', 'Gymnastics', 110), ('GBR', '1952', 'Hockey', 38), ('HUN', '1952', 'Modern Pentathlon', 12), ('SUI', '1952', 'Rowing', 78), ('SWE', '1952', 'Sailing', 44), ('FIN', '1952', 'Shooting', 21), ('IRI', '1952', 'Weightlifting', 21), ('IRI', '1952', 'Wrestling', 48), ('USA', '1956', 'Aquatics', 98), ('AUS', '1956', 'Athletics', 127), ('URU', '1956', 'Basketball', 36), ('IRL', '1956', 'Boxing', 40), ('URS', '1956', 'Canoe / Kayak', 39), ('GBR', '1956', 'Cycling', 36), ('SWE', '1956', 'Equestrian', 43), ('ITA', '1956', 'Fencing', 64), ('BUL', '1956', 'Football', 46), ('HUN', '1956', 'Gymnastics', 100), ('EUA', '1956', 'Hockey', 42), ('FIN', '1956', 'Modern Pentathlon', 12), ('AUT', '1956', 'Rowing', 78), ('AUS', '1956', 'Sailing', 34), ('URS', '1956', 'Shooting', 21), ('IRI', '1956', 'Weightlifting', 21), ('TUR', '1956', 'Wrestling', 48), ('GBR', '1960', 'Aquatics', 128), ('AUS', '1960', 'Athletics', 129), ('BRA', '1960', 'Basketball', 36), ('EGY', '1960', 'Boxing', 40), ('ROU', '1960', 'Canoe / Kayak', 39), ('BEL', '1960', 'Cycling', 39), ('EUA', '1960', 'Equestrian', 27), ('URS', '1960', 'Fencing', 76), ('HUN', '1960', 'Football', 45), ('URS', '1960', 'Gymnastics', 73), ('ESP', '1960', 'Hockey', 40), ('USA', '1960', 'Modern Pentathlon', 12), ('FIN', '1960', 'Rowing', 78), ('SUI', '1960', 'Sailing', 33), ('URS', '1960', 'Shooting', 18), ('IRI', '1960', 'Weightlifting', 21), ('IRI', '1960', 'Wrestling', 48), ('USA', '1964', 'Aquatics', 145), ('AUS', '1964', 'Athletics', 135), ('BRA', '1964', 'Basketball', 36), ('USA', '1964', 'Boxing', 40), ('URS', '1964', 'Canoe / Kayak', 39), ('BEL', '1964', 'Cycling', 42), ('URS', '1964', 'Equestrian', 36), ('URS', '1964', 'Fencing', 71), ('EUA', '1964', 'Football', 50), ('URS', '1964', 'Gymnastics', 73), ('AUS', '1964', 'Hockey', 45), ('URS', '1964', 'Judo', 16), ('URS', '1964', 'Modern Pentathlon', 12), ('EUA', '1964', 'Rowing', 78), ('USA', '1964', 'Sailing', 33), ('TCH', '1964', 'Shooting', 18), ('JPN', '1964', 'Volleyball', 72), ('JPN', '1964', 'Weightlifting', 21), ('IRI', '1964', 'Wrestling', 48), ('USA', '1968', 'Aquatics', 177), ('TUN', '1968', 'Athletics', 135), ('URS', '1968', 'Basketball', 36), ('USA', '1968', 'Boxing', 44), ('URS', '1968', 'Canoe / Kayak', 39), ('SWE', '1968', 'Cycling', 42), ('FRG', '1968', 'Equestrian', 36), ('ITA', '1968', 'Fencing', 72), ('JPN', '1968', 'Football', 51), ('URS', '1968', 'Gymnastics', 72), ('IND', '1968', 'Hockey', 42), ('URS', '1968', 'Modern Pentathlon', 12), ('DEN', '1968', 'Rowing', 78), ('GBR', '1968', 'Sailing', 33), ('URS', '1968', 'Shooting', 21), ('TCH', '1968', 'Volleyball', 72), ('POL', '1968', 'Weightlifting', 21), ('MGL', '1968', 'Wrestling', 48), ('ITA', '1972', 'Aquatics', 177), ('FIN', '1972', 'Archery', 6), ('ETH', '1972', 'Athletics', 150), ('CUB', '1972', 'Basketball', 36), ('GBR', '1972', 'Boxing', 44), ('FRG', '1972', 'Canoe / Kayak', 54), ('NED', '1972', 'Cycling', 37), ('FRG', '1972', 'Equestrian', 42), ('HUN', '1972', 'Fencing', 71), ('URS', '1972', 'Football', 70), ('GDR', '1972', 'Gymnastics', 72), ('ROU', '1972', 'Handball', 45), ('IND', '1972', 'Hockey', 47), ('PRK', '1972', 'Judo', 23), ('URS', '1972', 'Modern Pentathlon', 12), ('NED', '1972', 'Rowing', 78), ('USA', '1972', 'Sailing', 39), ('URS', '1972', 'Shooting', 24), ('URS', '1972', 'Volleyball', 71), ('HUN', '1972', 'Weightlifting', 27), ('IRI', '1972', 'Wrestling', 60), ('URS', '1976', 'Aquatics', 159), ('ITA', '1976', 'Archery', 6), ('GBR', '1976', 'Athletics', 147), ('URS', '1976', 'Basketball', 72), ('PUR', '1976', 'Boxing', 44), ('HUN', '1976', 'Canoe / Kayak', 57), ('POL', '1976', 'Cycling', 36), ('FRG', '1976', 'Equestrian', 42), ('HUN', '1976', 'Fencing', 71), ('URS', '1976', 'Football', 51), ('ROU', '1976', 'Gymnastics', 74), ('POL', '1976', 'Handball', 84), ('PAK', '1976', 'Hockey', 48), ('ITA', '1976', 'Judo', 24), ('TCH', '1976', 'Modern Pentathlon', 12), ('FRG', '1976', 'Rowing', 162), ('AUS', '1976', 'Sailing', 36), ('ITA', '1976', 'Shooting', 21), ('CUB', '1976', 'Volleyball', 72), ('IRI', '1976', 'Weightlifting', 27), ('JPN', '1976', 'Wrestling', 60), ('URS', '1980', 'Aquatics', 159), ('ITA', '1980', 'Archery', 6), ('ETH', '1980', 'Athletics', 150), ('URS', '1980', 'Basketball', 72), ('PRK', '1980', 'Boxing', 44), ('GDR', '1980', 'Canoe / Kayak', 57), ('URS', '1980', 'Cycling', 36), ('URS', '1980', 'Equestrian', 62), ('FRA', '1980', 'Fencing', 70), ('URS', '1980', 'Football', 51), ('URS', '1980', 'Gymnastics', 75), ('ROU', '1980', 'Handball', 84), ('URS', '1980', 'Hockey', 96), ('URS', '1980', 'Judo', 32), ('URS', '1980', 'Modern Pentathlon', 12), ('GBR', '1980', 'Rowing', 162), ('FIN', '1980', 'Sailing', 36), ('AUT', '1980', 'Shooting', 21), ('ROU', '1980', 'Volleyball', 72), ('PRK', '1980', 'Weightlifting', 30), ('URS', '1980', 'Wrestling', 60), ('CHN', '1984', 'Aquatics', 192), ('JPN', '1984', 'Archery', 6), ('KEN', '1984', 'Athletics', 161), ('YUG', '1984', 'Basketball', 72), ('VEN', '1984', 'Boxing', 48), ('DEN', '1984', 'Canoe / Kayak', 69), ('NOR', '1984', 'Cycling', 42), ('SUI', '1984', 'Equestrian', 47), ('FRA', '1984', 'Fencing', 72), ('YUG', '1984', 'Football', 51), ('USA', '1984', 'Gymnastics', 78), ('ROU', '1984', 'Handball', 85), ('GBR', '1984', 'Hockey', 96), ('GBR', '1984', 'Judo', 32), ('ITA', '1984', 'Modern Pentathlon', 12), ('NOR', '1984', 'Rowing', 162), ('FRA', '1984', 'Sailing', 39), ('CHN', '1984', 'Shooting', 33), ('ITA', '1984', 'Volleyball', 72), ('JPN', '1984', 'Weightlifting', 30), ('KOR', '1984', 'Wrestling', 60), ('MEX', '1988', 'Aquatics', 202), ('URS', '1988', 'Archery', 24), ('KEN', '1988', 'Athletics', 163), ('USA', '1988', 'Basketball', 72), ('HUN', '1988', 'Boxing', 48), ('BUL', '1988', 'Canoe / Kayak', 69), ('FRG', '1988', 'Cycling', 45), ('SUI', '1988', 'Equestrian', 45), ('URS', '1988', 'Fencing', 72), ('FRG', '1988', 'Football', 61), ('USA', '1988', 'Gymnastics', 78), ('YUG', '1988', 'Handball', 84), ('NED', '1988', 'Hockey', 96), ('JPN', '1988', 'Judo', 28), ('URS', '1988', 'Modern Pentathlon', 12), ('YUG', '1988', 'Rowing', 159), ('USA', '1988', 'Sailing', 45), ('URS', '1988', 'Shooting', 39), ('KOR', '1988', 'Table Tennis', 18), ('SWE', '1988', 'Tennis', 24), ('ARG', '1988', 'Volleyball', 72), ('CHN', '1988', 'Weightlifting', 30), ('URS', '1988', 'Wrestling', 60), ('CHN', '1992', 'Aquatics', 228), ('GBR', '1992', 'Archery', 24), ('ETH', '1992', 'Athletics', 178), ('CHN', '1992', 'Badminton', 24), ('JPN', '1992', 'Baseball', 60), ('LTU', '1992', 'Basketball', 72), ('GER', '1992', 'Boxing', 48), ('HUN', '1992', 'Canoe / Kayak', 84), ('LAT', '1992', 'Cycling', 50), ('GER', '1992', 'Equestrian', 45), ('FRA', '1992', 'Fencing', 72), ('GHA', '1992', 'Football', 37), ('EUN', '1992', 'Gymnastics', 80), ('FRA', '1992', 'Handball', 84), ('PAK', '1992', 'Hockey', 96), ('CUB', '1992', 'Judo', 56), ('EUN', '1992', 'Modern Pentathlon', 12), ('GER', '1992', 'Rowing', 156), ('EST', '1992', 'Sailing', 51), ('BUL', '1992', 'Shooting', 39), ('KOR', '1992', 'Table Tennis', 24), ('ARG', '1992', 'Tennis', 24), ('USA', '1992', 'Volleyball', 72), ('ROU', '1992', 'Weightlifting', 29), ('EUN', '1992', 'Wrestling', 60), ('CHN', '1996', 'Aquatics', 262), ('KOR', '1996', 'Archery', 24), ('MAR', '1996', 'Athletics', 180), ('INA', '1996', 'Badminton', 24), ('USA', '1996', 'Baseball', 60), ('LTU', '1996', 'Basketball', 72), ('UKR', '1996', 'Boxing', 48), ('HUN', '1996', 'Canoe / Kayak', 84), ('GBR', '1996', 'Cycling', 52), ('NED', '1996', 'Equestrian', 45), ('HUN', '1996', 'Fencing', 60), ('BRA', '1996', 'Football', 104), ('ROU', '1996', 'Gymnastics', 101), ('ESP', '1996', 'Handball', 96), ('AUS', '1996', 'Hockey', 96), ('CUB', '1996', 'Judo', 56), ('HUN', '1996', 'Modern Pentathlon', 3), ('FRA', '1996', 'Rowing', 144), ('POR', '1996', 'Sailing', 48), ('BUL', '1996', 'Shooting', 45), ('AUS', '1996', 'Softball', 45), ('KOR', '1996', 'Table Tennis', 18), ('GER', '1996', 'Tennis', 18), ('CAN', '1996', 'Volleyball', 84), ('BUL', '1996', 'Weightlifting', 30), ('CUB', '1996', 'Wrestling', 60), ('RUS', '2000', 'Aquatics', 329), ('NED', '2000', 'Archery', 24), ('ETH', '2000', 'Athletics', 184), ('KOR', '2000', 'Badminton', 24), ('KOR', '2000', 'Baseball', 72), ('LTU', '2000', 'Basketball', 72), ('PRK', '2000', 'Boxing', 48), ('CAN', '2000', 'Canoe / Kayak', 84), ('GER', '2000', 'Cycling', 75), ('GER', '2000', 'Equestrian', 45), ('KOR', '2000', 'Fencing', 66), ('CHI', '2000', 'Football', 108), ('RUS', '2000', 'Gymnastics', 99), ('ESP', '2000', 'Handball', 90), ('AUS', '2000', 'Hockey', 96), ('GER', '2000', 'Judo', 56), ('BLR', '2000', 'Modern Pentathlon', 6), ('AUS', '2000', 'Rowing', 144), ('ARG', '2000', 'Sailing', 54), ('AUS', '2000', 'Shooting', 51), ('AUS', '2000', 'Softball', 45), ('FRA', '2000', 'Table Tennis', 18), ('TPE', '2000', 'Taekwondo', 24), ('ESP', '2000', 'Tennis', 18), ('CZE', '2000', 'Triathlon', 6), ('GER', '2000', 'Volleyball', 84), ('RUS', '2000', 'Weightlifting', 45), ('GRE', '2000', 'Wrestling', 48), ('CHN', '2004', 'Aquatics', 332), ('AUS', '2004', 'Archery', 24), ('ERI', '2004', 'Athletics', 183), ('INA', '2004', 'Badminton', 24), ('JPN', '2004', 'Baseball', 71), ('USA', '2004', 'Basketball', 70), ('ITA', '2004', 'Boxing', 44), ('HUN', '2004', 'Canoe / Kayak', 84), ('BEL', '2004', 'Cycling', 76), ('ESP', '2004', 'Equestrian', 47), ('RUS', '2004', 'Fencing', 61), ('ITA', '2004', 'Football', 98), ('ROU', '2004', 'Gymnastics', 99), ('RUS', '2004', 'Handball', 88), ('GER', '2004', 'Hockey', 95), ('CHN', '2004', 'Judo', 56), ('CZE', '2004', 'Modern Pentathlon', 6), ('RSA', '2004', 'Rowing', 144), ('JPN', '2004', 'Sailing', 54), ('BUL', '2004', 'Shooting', 51), ('JPN', '2004', 'Softball', 45), ('DEN', '2004', 'Table Tennis', 18), ('THA', '2004', 'Taekwondo', 24), ('CRO', '2004', 'Tennis', 16), ('SUI', '2004', 'Triathlon', 6), ('SUI', '2004', 'Volleyball', 83), ('TUR', '2004', 'Weightlifting', 45), ('USA', '2004', 'Wrestling', 54), ('RUS', '2008', 'Aquatics', 347), ('RUS', '2008', 'Archery', 24), ('KEN', '2008', 'Athletics', 177), ('KOR', '2008', 'Badminton', 24), ('USA', '2008', 'Baseball', 72), ('ARG', '2008', 'Basketball', 72), ('UKR', '2008', 'Boxing', 44), ('CAN', '2008', 'Canoe / Kayak', 84), ('USA', '2008', 'Cycling', 71), ('GER', '2008', 'Equestrian', 45), ('ESP', '2008', 'Fencing', 62), ('BRA', '2008', 'Football', 108), ('CHN', '2008', 'Gymnastics', 99), ('ESP', '2008', 'Handball', 85), ('AUS', '2008', 'Hockey', 98), ('ARG', '2008', 'Judo', 56), ('LTU', '2008', 'Modern Pentathlon', 6), ('NZL', '2008', 'Rowing', 144), ('FRA', '2008', 'Sailing', 54), ('GEO', '2008', 'Shooting', 45), ('AUS', '2008', 'Softball', 45), ('CHN', '2008', 'Table Tennis', 24), ('VEN', '2008', 'Taekwondo', 32), ('USA', '2008', 'Tennis', 18), ('NZL', '2008', 'Triathlon', 6), ('BRA', '2008', 'Volleyball', 84), ('INA', '2008', 'Weightlifting', 45), ('UKR', '2008', 'Wrestling', 71)]'"
     ]
    }
   ],
   "source": [
    "db.session.query(country_ref,count).filter(country_ref.id == count.country_id).all()"
   ]
  },
  {
   "cell_type": "code",
   "execution_count": null,
   "metadata": {},
   "outputs": [],
   "source": [
    "results=db.session.query(country_ref.country_name, country_ref.code, subq).join(subq).all()\n",
    "results"
   ]
  },
  {
   "cell_type": "code",
   "execution_count": null,
   "metadata": {},
   "outputs": [],
   "source": [
    "  country_dic ={}"
   ]
  },
  {
   "cell_type": "code",
   "execution_count": null,
   "metadata": {},
   "outputs": [],
   "source": [
    "for result in results:\n",
    "    if result[2] in country_dic:\n",
    "        country_dic[result[2]]['medals'][result[3]] = result[4]\n",
    "    else:\n",
    "        country ={}\n",
    "\n",
    "        country['name']  = result[0]\n",
    "        country['code'] = result[1]\n",
    "        country['medals'] = {}\n",
    "        country['medals'][result[3]] = result[4]\n",
    "        country_dic[result[2]] = country"
   ]
  },
  {
   "cell_type": "code",
   "execution_count": 32,
   "metadata": {},
   "outputs": [
    {
     "data": {
      "text/plain": [
       "[('Aquatics', 3828),\n",
       " ('Archery', 305),\n",
       " ('Athletics', 3448),\n",
       " ('Badminton', 120),\n",
       " ('Baseball', 335),\n",
       " ('Basketball', 940),\n",
       " ('Basque Pelota', 4),\n",
       " ('Boxing', 842),\n",
       " ('Canoe / Kayak', 1002),\n",
       " ('Cricket', 24),\n",
       " ('Croquet', 8),\n",
       " ('Cycling', 1025),\n",
       " ('Equestrian', 894),\n",
       " ('Fencing', 1547),\n",
       " ('Football', 1387),\n",
       " ('Golf', 30),\n",
       " ('Gymnastics', 2214),\n",
       " ('Handball', 886),\n",
       " ('Hockey', 1325),\n",
       " ('Ice Hockey', 27),\n",
       " ('Jeu de paume', 3),\n",
       " ('Judo', 435),\n",
       " ('Lacrosse', 59),\n",
       " ('Modern Pentathlon', 174),\n",
       " ('Polo', 66),\n",
       " ('Rackets', 10),\n",
       " ('Roque', 3),\n",
       " ('Rowing', 2523),\n",
       " ('Rugby', 192),\n",
       " ('Sailing', 1061),\n",
       " ('Shooting', 1105),\n",
       " ('Skating', 27),\n",
       " ('Softball', 180),\n",
       " ('Table Tennis', 120),\n",
       " ('Taekwondo', 80),\n",
       " ('Tennis', 272),\n",
       " ('Triathlon', 18),\n",
       " ('Tug of War', 94),\n",
       " ('Volleyball', 910),\n",
       " ('Water Motorsports', 5),\n",
       " ('Weightlifting', 548),\n",
       " ('Wrestling', 1140)]"
      ]
     },
     "execution_count": 32,
     "metadata": {},
     "output_type": "execute_result"
    }
   ],
   "source": [
    "db.session.query(raw.Sport,func.count(raw.id)).group_by(raw.Sport).filter(country_ref.code=='FRA').all()\n"
   ]
  },
  {
   "cell_type": "code",
   "execution_count": 33,
   "metadata": {},
   "outputs": [],
   "source": [
    "data =db.session.query(country_ref.code, country_ref.country_name, country_ref.id,country_ref.flag_image).filter(country_ref.code == 'FRA').all()"
   ]
  },
  {
   "cell_type": "code",
   "execution_count": 39,
   "metadata": {},
   "outputs": [],
   "source": [
    "country_data = db.session.query(country_ref.id, country_ref.code, country_ref.country_name,country_ref.flag_image).filter(country_ref.code== 'FRA').all()\n",
    "  "
   ]
  },
  {
   "cell_type": "code",
   "execution_count": 71,
   "metadata": {},
   "outputs": [],
   "source": [
    " word_cloud = db.session.query(raw.Sport,func.count(raw.id).label('nMed')).group_by(raw.Sport).filter(raw.country_id== country_data[0].id)"
   ]
  },
  {
   "cell_type": "code",
   "execution_count": 41,
   "metadata": {},
   "outputs": [
    {
     "data": {
      "text/plain": [
       "[('Aquatics', 89),\n",
       " ('Archery', 46),\n",
       " ('Athletics', 100),\n",
       " ('Basketball', 26),\n",
       " ('Basque Pelota', 2),\n",
       " ('Boxing', 19),\n",
       " ('Canoe / Kayak', 47),\n",
       " ('Cricket', 12),\n",
       " ('Croquet', 8),\n",
       " ('Cycling', 130),\n",
       " ('Equestrian', 64),\n",
       " ('Fencing', 286),\n",
       " ('Football', 30),\n",
       " ('Gymnastics', 51),\n",
       " ('Handball', 31),\n",
       " ('Judo', 37),\n",
       " ('Modern Pentathlon', 6),\n",
       " ('Rowing', 94),\n",
       " ('Rugby', 63),\n",
       " ('Sailing', 48),\n",
       " ('Shooting', 54),\n",
       " ('Table Tennis', 3),\n",
       " ('Taekwondo', 4),\n",
       " ('Tennis', 26),\n",
       " ('Tug of War', 6),\n",
       " ('Water Motorsports', 1),\n",
       " ('Weightlifting', 15),\n",
       " ('Wrestling', 16)]"
      ]
     },
     "execution_count": 41,
     "metadata": {},
     "output_type": "execute_result"
    }
   ],
   "source": [
    "words = []\n",
    "for sport in word_cloud:\n",
    "    sp ={}\n",
    "    sp['word'] = sport.Sport\n",
    "    "
   ]
  },
  {
   "cell_type": "code",
   "execution_count": 58,
   "metadata": {},
   "outputs": [
    {
     "name": "stdout",
     "output_type": "stream",
     "text": [
      "Help on list object:\n",
      "\n",
      "class list(object)\n",
      " |  list() -> new empty list\n",
      " |  list(iterable) -> new list initialized from iterable's items\n",
      " |  \n",
      " |  Methods defined here:\n",
      " |  \n",
      " |  __add__(self, value, /)\n",
      " |      Return self+value.\n",
      " |  \n",
      " |  __contains__(self, key, /)\n",
      " |      Return key in self.\n",
      " |  \n",
      " |  __delitem__(self, key, /)\n",
      " |      Delete self[key].\n",
      " |  \n",
      " |  __eq__(self, value, /)\n",
      " |      Return self==value.\n",
      " |  \n",
      " |  __ge__(self, value, /)\n",
      " |      Return self>=value.\n",
      " |  \n",
      " |  __getattribute__(self, name, /)\n",
      " |      Return getattr(self, name).\n",
      " |  \n",
      " |  __getitem__(...)\n",
      " |      x.__getitem__(y) <==> x[y]\n",
      " |  \n",
      " |  __gt__(self, value, /)\n",
      " |      Return self>value.\n",
      " |  \n",
      " |  __iadd__(self, value, /)\n",
      " |      Implement self+=value.\n",
      " |  \n",
      " |  __imul__(self, value, /)\n",
      " |      Implement self*=value.\n",
      " |  \n",
      " |  __init__(self, /, *args, **kwargs)\n",
      " |      Initialize self.  See help(type(self)) for accurate signature.\n",
      " |  \n",
      " |  __iter__(self, /)\n",
      " |      Implement iter(self).\n",
      " |  \n",
      " |  __le__(self, value, /)\n",
      " |      Return self<=value.\n",
      " |  \n",
      " |  __len__(self, /)\n",
      " |      Return len(self).\n",
      " |  \n",
      " |  __lt__(self, value, /)\n",
      " |      Return self<value.\n",
      " |  \n",
      " |  __mul__(self, value, /)\n",
      " |      Return self*value.\n",
      " |  \n",
      " |  __ne__(self, value, /)\n",
      " |      Return self!=value.\n",
      " |  \n",
      " |  __new__(*args, **kwargs) from builtins.type\n",
      " |      Create and return a new object.  See help(type) for accurate signature.\n",
      " |  \n",
      " |  __repr__(self, /)\n",
      " |      Return repr(self).\n",
      " |  \n",
      " |  __reversed__(...)\n",
      " |      L.__reversed__() -- return a reverse iterator over the list\n",
      " |  \n",
      " |  __rmul__(self, value, /)\n",
      " |      Return value*self.\n",
      " |  \n",
      " |  __setitem__(self, key, value, /)\n",
      " |      Set self[key] to value.\n",
      " |  \n",
      " |  __sizeof__(...)\n",
      " |      L.__sizeof__() -- size of L in memory, in bytes\n",
      " |  \n",
      " |  append(...)\n",
      " |      L.append(object) -> None -- append object to end\n",
      " |  \n",
      " |  clear(...)\n",
      " |      L.clear() -> None -- remove all items from L\n",
      " |  \n",
      " |  copy(...)\n",
      " |      L.copy() -> list -- a shallow copy of L\n",
      " |  \n",
      " |  count(...)\n",
      " |      L.count(value) -> integer -- return number of occurrences of value\n",
      " |  \n",
      " |  extend(...)\n",
      " |      L.extend(iterable) -> None -- extend list by appending elements from the iterable\n",
      " |  \n",
      " |  index(...)\n",
      " |      L.index(value, [start, [stop]]) -> integer -- return first index of value.\n",
      " |      Raises ValueError if the value is not present.\n",
      " |  \n",
      " |  insert(...)\n",
      " |      L.insert(index, object) -- insert object before index\n",
      " |  \n",
      " |  pop(...)\n",
      " |      L.pop([index]) -> item -- remove and return item at index (default last).\n",
      " |      Raises IndexError if list is empty or index is out of range.\n",
      " |  \n",
      " |  remove(...)\n",
      " |      L.remove(value) -> None -- remove first occurrence of value.\n",
      " |      Raises ValueError if the value is not present.\n",
      " |  \n",
      " |  reverse(...)\n",
      " |      L.reverse() -- reverse *IN PLACE*\n",
      " |  \n",
      " |  sort(...)\n",
      " |      L.sort(key=None, reverse=False) -> None -- stable sort *IN PLACE*\n",
      " |  \n",
      " |  ----------------------------------------------------------------------\n",
      " |  Data and other attributes defined here:\n",
      " |  \n",
      " |  __hash__ = None\n",
      "\n"
     ]
    }
   ],
   "source": [
    "help(word_cloud)"
   ]
  },
  {
   "cell_type": "code",
   "execution_count": 75,
   "metadata": {},
   "outputs": [
    {
     "data": {
      "text/plain": [
       "89"
      ]
     },
     "execution_count": 75,
     "metadata": {},
     "output_type": "execute_result"
    }
   ],
   "source": [
    "word_cloud[0].nMed"
   ]
  },
  {
   "cell_type": "code",
   "execution_count": null,
   "metadata": {},
   "outputs": [],
   "source": []
  }
 ],
 "metadata": {
  "kernelspec": {
   "display_name": "Python 3",
   "language": "python",
   "name": "python3"
  },
  "language_info": {
   "codemirror_mode": {
    "name": "ipython",
    "version": 3
   },
   "file_extension": ".py",
   "mimetype": "text/x-python",
   "name": "python",
   "nbconvert_exporter": "python",
   "pygments_lexer": "ipython3",
   "version": "3.6.7"
  }
 },
 "nbformat": 4,
 "nbformat_minor": 2
}

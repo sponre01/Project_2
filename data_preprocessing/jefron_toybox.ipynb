{
 "cells": [
  {
   "cell_type": "code",
   "execution_count": 1,
   "metadata": {},
   "outputs": [],
   "source": [
    "import sqlite3\n",
    "import pandas as pd\n",
    "from sqlalchemy import create_engine\n",
    "from sqlalchemy.ext.automap import automap_base\n",
    "import os\n",
    "from flask import (\n",
    "    Flask,\n",
    "    render_template,\n",
    "    jsonify,\n",
    "    request,\n",
    "    redirect)\n",
    "from flask_sqlalchemy import SQLAlchemy\n",
    "from sqlalchemy import func"
   ]
  },
  {
   "cell_type": "code",
   "execution_count": 2,
   "metadata": {
    "scrolled": true
   },
   "outputs": [
    {
     "name": "stderr",
     "output_type": "stream",
     "text": [
      "C:\\Users\\norfe\\Anaconda3\\lib\\site-packages\\flask_sqlalchemy\\__init__.py:794: FSADeprecationWarning: SQLALCHEMY_TRACK_MODIFICATIONS adds significant overhead and will be disabled by default in the future.  Set it to True or False to suppress this warning.\n",
      "  'SQLALCHEMY_TRACK_MODIFICATIONS adds significant overhead and '\n"
     ]
    }
   ],
   "source": [
    "app = Flask(__name__)\n",
    "\n",
    "app.config['SQLALCHEMY_DATABASE_URI'] = 'sqlite:///../data/new_olympics.db'\n",
    "db = SQLAlchemy(app)\n",
    "\n"
   ]
  },
  {
   "cell_type": "code",
   "execution_count": 3,
   "metadata": {},
   "outputs": [],
   "source": [
    "sqlite3.connect('../data/olympics_raw.sqlite')\n",
    "conn = sqlite3.connect('../data/new_olympics.db')"
   ]
  },
  {
   "cell_type": "code",
   "execution_count": 4,
   "metadata": {},
   "outputs": [
    {
     "data": {
      "text/html": [
       "<div>\n",
       "<style scoped>\n",
       "    .dataframe tbody tr th:only-of-type {\n",
       "        vertical-align: middle;\n",
       "    }\n",
       "\n",
       "    .dataframe tbody tr th {\n",
       "        vertical-align: top;\n",
       "    }\n",
       "\n",
       "    .dataframe thead th {\n",
       "        text-align: right;\n",
       "    }\n",
       "</style>\n",
       "<table border=\"1\" class=\"dataframe\">\n",
       "  <thead>\n",
       "    <tr style=\"text-align: right;\">\n",
       "      <th></th>\n",
       "      <th>id</th>\n",
       "      <th>City</th>\n",
       "      <th>Edition</th>\n",
       "      <th>Sport</th>\n",
       "      <th>Discipline</th>\n",
       "      <th>Athlete</th>\n",
       "      <th>NOC</th>\n",
       "      <th>Gender</th>\n",
       "      <th>Event</th>\n",
       "      <th>Event_gender</th>\n",
       "      <th>Medal</th>\n",
       "      <th>country_id</th>\n",
       "    </tr>\n",
       "  </thead>\n",
       "  <tbody>\n",
       "    <tr>\n",
       "      <th>0</th>\n",
       "      <td>1</td>\n",
       "      <td>Athens</td>\n",
       "      <td>1896</td>\n",
       "      <td>Aquatics</td>\n",
       "      <td>Swimming</td>\n",
       "      <td>HAJOS, Alfred</td>\n",
       "      <td>HUN</td>\n",
       "      <td>Men</td>\n",
       "      <td>100m freestyle</td>\n",
       "      <td>M</td>\n",
       "      <td>Gold</td>\n",
       "      <td>1</td>\n",
       "    </tr>\n",
       "  </tbody>\n",
       "</table>\n",
       "</div>"
      ],
      "text/plain": [
       "   id    City Edition     Sport Discipline        Athlete  NOC Gender  \\\n",
       "0   1  Athens    1896  Aquatics   Swimming  HAJOS, Alfred  HUN    Men   \n",
       "\n",
       "            Event Event_gender Medal  country_id  \n",
       "0  100m freestyle            M  Gold           1  "
      ]
     },
     "execution_count": 4,
     "metadata": {},
     "output_type": "execute_result"
    }
   ],
   "source": [
    "pd.read_sql('SELECT * FROM olympics_raw LIMIT 1', conn)"
   ]
  },
  {
   "cell_type": "code",
   "execution_count": 6,
   "metadata": {},
   "outputs": [],
   "source": [
    " # Create engine using the `demographics.sqlite` database file\n",
    "Base = automap_base()    \n",
    "engine = create_engine(\"sqlite:///../data/new_olympics.db\")\n",
    "Base.prepare(engine, reflect=True)"
   ]
  },
  {
   "cell_type": "code",
   "execution_count": 7,
   "metadata": {},
   "outputs": [
    {
     "data": {
      "text/plain": [
       "['country_ref', 'olympics_raw']"
      ]
     },
     "execution_count": 7,
     "metadata": {},
     "output_type": "execute_result"
    }
   ],
   "source": [
    "Base.classes.keys()"
   ]
  },
  {
   "cell_type": "code",
   "execution_count": 8,
   "metadata": {},
   "outputs": [
    {
     "data": {
      "text/plain": [
       "MetaData(bind=None)"
      ]
     },
     "execution_count": 8,
     "metadata": {},
     "output_type": "execute_result"
    }
   ],
   "source": [
    "Base.metadata"
   ]
  },
  {
   "cell_type": "code",
   "execution_count": 9,
   "metadata": {},
   "outputs": [],
   "source": [
    "class olympic_raw(db.Model):\n",
    "    __tablename__ = 'olympics_raw'\n",
    "    __table_args__ = {'extend_existing': True} \n",
    "    id = db.Column(db.Integer, primary_key=True)\n",
    "    City = db.Column(db.String(64))\n",
    "    Edition =  db.Column(db.String(64))\n",
    "    Event= db.Column(db.String(64))\n",
    "    Event_Gender= db.Column(db.String(64))\n",
    "    Medal = db.Column(db.String(64))\n",
    "    country_id =db.Column(db.Integer)\n",
    "    NOC = db.Column(db.String(64))\n",
    "    Gender = db.Column(db.String(64))\n",
    "    Discipline = db.Column(db.String(64))\n",
    "    Athlete = db.Column(db.String(64))"
   ]
  },
  {
   "cell_type": "code",
   "execution_count": 10,
   "metadata": {},
   "outputs": [],
   "source": [
    "class raw(db.Model):\n",
    "    __tablename__ = 'olympics_raw'\n",
    "    __table_args__ = {'extend_existing': True} \n",
    "    id = db.Column(db.Integer, primary_key=True)\n",
    "    City = db.Column(db.String(64))\n",
    "    Edition =  db.Column(db.String(64))\n",
    "    Event= db.Column(db.String(64))\n",
    "    Event_Gender= db.Column(db.String(64))\n",
    "    Medal = db.Column(db.String(64))\n",
    "    country_id =db.Column(db.Integer, db.ForeignKey('country_ref.id'))\n",
    "    NOC = db.Column(db.String(64))\n",
    "    Gender = db.Column(db.String(64))\n",
    "    Discipline = db.Column(db.String(64))\n",
    "    Athlete = db.Column(db.String(64))\n",
    "    def __repr__(self):\n",
    "        return '<raw %r>' % (self.id)"
   ]
  },
  {
   "cell_type": "code",
   "execution_count": 11,
   "metadata": {},
   "outputs": [],
   "source": [
    "class country_ref(db.Model):\n",
    "    __tablename__ = 'country_ref' \n",
    "    __table_args__ = {'extend_existing': True} \n",
    "    id = db.Column(db.Integer, primary_key=True)\n",
    "    country_name = db.Column(db.String(64))\n",
    "    code =db.Column(db.String(64))\n",
    "    flag_source = db.Column(db.String(64))\n",
    "    flag_image = db.Column(db.String(64))\n",
    "    def __repr__(self):\n",
    "        return '<country_ref %r>' % (self.id)\n"
   ]
  },
  {
   "cell_type": "code",
   "execution_count": 12,
   "metadata": {},
   "outputs": [
    {
     "ename": "NameError",
     "evalue": "name 'Ba' is not defined",
     "output_type": "error",
     "traceback": [
      "\u001b[1;31m---------------------------------------------------------------------------\u001b[0m",
      "\u001b[1;31mNameError\u001b[0m                                 Traceback (most recent call last)",
      "\u001b[1;32m<ipython-input-12-06b34cdac2a7>\u001b[0m in \u001b[0;36m<module>\u001b[1;34m\u001b[0m\n\u001b[0;32m      1\u001b[0m \u001b[0mcountries\u001b[0m \u001b[1;33m=\u001b[0m \u001b[0mBase\u001b[0m\u001b[1;33m.\u001b[0m\u001b[0mclasses\u001b[0m\u001b[1;33m.\u001b[0m\u001b[0mcountry_ref\u001b[0m\u001b[1;33m\u001b[0m\u001b[1;33m\u001b[0m\u001b[0m\n\u001b[1;32m----> 2\u001b[1;33m \u001b[0mraw\u001b[0m \u001b[1;33m=\u001b[0m \u001b[0mBa\u001b[0m\u001b[1;33m\u001b[0m\u001b[1;33m\u001b[0m\u001b[0m\n\u001b[0m",
      "\u001b[1;31mNameError\u001b[0m: name 'Ba' is not defined"
     ]
    }
   ],
   "source": [
    "countries = Base.classes.country_ref\n",
    "raw = Ba"
   ]
  },
  {
   "cell_type": "code",
   "execution_count": 13,
   "metadata": {},
   "outputs": [],
   "source": [
    "cr = db.session.query(country_ref.id, country_ref.code, country_ref.country_name,country_ref.flag_image).all()\n"
   ]
  },
  {
   "cell_type": "code",
   "execution_count": 14,
   "metadata": {},
   "outputs": [],
   "source": [
    "count = db.session.query(raw.country_id,func.count(raw.id)).group_by(raw.country_id).all()"
   ]
  },
  {
   "cell_type": "code",
   "execution_count": 15,
   "metadata": {},
   "outputs": [],
   "source": [
    "subq = (db.session.query(raw.country_id,func.count(raw.id)).group_by(raw.country_id)).subquery()"
   ]
  },
  {
   "cell_type": "code",
   "execution_count": 16,
   "metadata": {},
   "outputs": [
    {
     "data": {
      "text/plain": [
       "[(1, 1053),\n",
       " (2, 146),\n",
       " (3, 145),\n",
       " (4, 4335),\n",
       " (5, 1211),\n",
       " (6, 1594),\n",
       " (7, 1314),\n",
       " (8, 1075),\n",
       " (9, 491),\n",
       " (10, 376),\n",
       " (11, 48),\n",
       " (12, 782),\n",
       " (13, 408),\n",
       " (14, 178),\n",
       " (15, 592),\n",
       " (16, 7),\n",
       " (17, 1021),\n",
       " (18, 537),\n",
       " (19, 377),\n",
       " (20, 1228),\n",
       " (21, 395),\n",
       " (22, 29),\n",
       " (23, 97),\n",
       " (24, 451),\n",
       " (25, 17),\n",
       " (26, 37),\n",
       " (27, 329),\n",
       " (28, 164),\n",
       " (29, 372),\n",
       " (30, 704),\n",
       " (31, 2),\n",
       " (32, 239),\n",
       " (33, 499),\n",
       " (34, 31),\n",
       " (35, 76),\n",
       " (36, 435),\n",
       " (37, 624),\n",
       " (38, 8),\n",
       " (39, 24),\n",
       " (40, 9),\n",
       " (41, 24),\n",
       " (42, 33),\n",
       " (43, 17),\n",
       " (44, 80),\n",
       " (45, 82),\n",
       " (46, 3),\n",
       " (47, 102),\n",
       " (48, 2),\n",
       " (49, 466),\n",
       " (50, 6),\n",
       " (51, 15),\n",
       " (52, 48),\n",
       " (53, 20),\n",
       " (54, 2049),\n",
       " (55, 11),\n",
       " (56, 331),\n",
       " (57, 4),\n",
       " (58, 260),\n",
       " (59, 17),\n",
       " (60, 121),\n",
       " (61, 23),\n",
       " (62, 5),\n",
       " (63, 42),\n",
       " (64, 38),\n",
       " (65, 21),\n",
       " (66, 16),\n",
       " (67, 1),\n",
       " (68, 4),\n",
       " (69, 7),\n",
       " (70, 81),\n",
       " (71, 84),\n",
       " (72, 825),\n",
       " (73, 490),\n",
       " (74, 6),\n",
       " (75, 22),\n",
       " (76, 19),\n",
       " (77, 52),\n",
       " (78, 11),\n",
       " (79, 1),\n",
       " (80, 21),\n",
       " (81, 1),\n",
       " (82, 2),\n",
       " (83, 1),\n",
       " (84, 23),\n",
       " (85, 679),\n",
       " (86, 1),\n",
       " (87, 2),\n",
       " (88, 4),\n",
       " (89, 14),\n",
       " (90, 3),\n",
       " (91, 2),\n",
       " (92, 4),\n",
       " (93, 35),\n",
       " (94, 1),\n",
       " (95, 1),\n",
       " (96, 1),\n",
       " (97, 1),\n",
       " (98, 223),\n",
       " (99, 4),\n",
       " (100, 2),\n",
       " (101, 50),\n",
       " (102, 6),\n",
       " (103, 79),\n",
       " (104, 7),\n",
       " (105, 21),\n",
       " (106, 3),\n",
       " (107, 638),\n",
       " (108, 148),\n",
       " (109, 2),\n",
       " (110, 1),\n",
       " (111, 2),\n",
       " (112, 41),\n",
       " (113, 92),\n",
       " (114, 1),\n",
       " (115, 39),\n",
       " (116, 17),\n",
       " (117, 29),\n",
       " (118, 6),\n",
       " (119, 18),\n",
       " (120, 3),\n",
       " (121, 9),\n",
       " (122, 16),\n",
       " (123, 1),\n",
       " (124, 2),\n",
       " (125, 3),\n",
       " (126, 1),\n",
       " (127, 2),\n",
       " (128, 1),\n",
       " (129, 14),\n",
       " (130, 1),\n",
       " (131, 17),\n",
       " (132, 1),\n",
       " (133, 15),\n",
       " (134, 1),\n",
       " (135, 1),\n",
       " (136, 1),\n",
       " (137, 2),\n",
       " (138, 1)]"
      ]
     },
     "execution_count": 16,
     "metadata": {},
     "output_type": "execute_result"
    }
   ],
   "source": [
    "db.session.query(subq).all()"
   ]
  },
  {
   "cell_type": "code",
   "execution_count": 24,
   "metadata": {},
   "outputs": [
    {
     "data": {
      "text/plain": [
       "[('Hungary', 'HUN', 1, 1053),\n",
       " ('Austria', 'AUT', 2, 146),\n",
       " ('Greece', 'GRE', 3, 145),\n",
       " ('United States', 'USA', 4, 4335),\n",
       " ('Germany', 'GER', 5, 1211),\n",
       " ('United Kingdom', 'GBR', 6, 1594),\n",
       " ('France', 'FRA', 7, 1314),\n",
       " ('Australia', 'AUS', 8, 1075),\n",
       " ('Denmark', 'DEN', 9, 491),\n",
       " ('Switzerland', 'SUI', 10, 376),\n",
       " ('Mixed Teams', 'ZZX', 11, 48),\n",
       " ('Netherlands', 'NED', 12, 782),\n",
       " ('Belgium', 'BEL', 13, 408),\n",
       " ('India', 'IND', 14, 178),\n",
       " ('Canada', 'CAN', 15, 592),\n",
       " ('Bohemia', 'BOH', 16, 7),\n",
       " ('Sweden', 'SWE', 17, 1021),\n",
       " ('Norway', 'NOR', 18, 537),\n",
       " ('Spain', 'ESP', 19, 377),\n",
       " ('Italy', 'ITA', 20, 1228),\n",
       " ('Cuba', 'CUB', 21, 395),\n",
       " ('Australasia', 'ANZ', 22, 29),\n",
       " ('South Africa', 'RSA', 23, 97),\n",
       " ('Finland', 'FIN', 24, 451),\n",
       " ('Russian Empire', 'RU1', 25, 17),\n",
       " ('Estonia', 'EST', 26, 37),\n",
       " ('Czechoslovakia', 'TCH', 27, 329),\n",
       " ('New Zealand', 'NZL', 28, 164),\n",
       " ('Brazil', 'BRA', 29, 372),\n",
       " ('Japan', 'JPN', 30, 704),\n",
       " ('Luxembourg', 'LUX', 31, 2),\n",
       " ('Argentina', 'ARG', 32, 239),\n",
       " ('Poland', 'POL', 33, 499),\n",
       " ('Portugal', 'POR', 34, 31),\n",
       " ('Uruguay', 'URU', 35, 76),\n",
       " ('Yugoslavia', 'YUG', 36, 435),\n",
       " ('Romania', 'ROU', 37, 624),\n",
       " ('Haiti', 'HAI', 38, 8),\n",
       " ('Egypt', 'EGY', 39, 24),\n",
       " ('Philippines', 'PHI', 40, 9),\n",
       " ('Ireland', 'IRL', 41, 24),\n",
       " ('Chile', 'CHI', 42, 33),\n",
       " ('Latvia', 'LAT', 43, 17),\n",
       " ('Mexico', 'MEX', 44, 80),\n",
       " ('Turkey', 'TUR', 45, 82),\n",
       " ('Panama', 'PAN', 46, 3),\n",
       " ('Jamaica', 'JAM', 47, 102),\n",
       " ('Sri Lanka', 'SRI', 48, 2),\n",
       " ('Korea, Republic of', 'KOR', 49, 466),\n",
       " ('Puerto Rico', 'PUR', 50, 6),\n",
       " ('Peru', 'PER', 51, 15),\n",
       " ('Iran', 'IRI', 52, 48),\n",
       " ('Trinidad and Tobago', 'TRI', 53, 20),\n",
       " ('Soviet Union', 'URS', 54, 2049),\n",
       " ('Venezuela, Bolivarian Republic of', 'VEN', 55, 11),\n",
       " ('Bulgaria', 'BUL', 56, 331),\n",
       " ('Lebanon', 'LIB', 57, 4),\n",
       " ('United Team of Germany', 'EUA', 58, 260),\n",
       " ('Iceland', 'ISL', 59, 17),\n",
       " ('Pakistan', 'PAK', 60, 121),\n",
       " ('Bahamas', 'BAH', 61, 23),\n",
       " ('British West Indies', 'BWI', 62, 5),\n",
       " ('Chinese Taipei', 'TPE', 63, 42),\n",
       " ('Ethiopia', 'ETH', 64, 38),\n",
       " ('Morocco', 'MAR', 65, 21),\n",
       " ('Ghana', 'GHA', 66, 16),\n",
       " ('Iraq', 'IRQ', 67, 1),\n",
       " ('Singapore', 'SIN', 68, 4),\n",
       " ('Tunisia', 'TUN', 69, 7),\n",
       " ('Kenya', 'KEN', 70, 81),\n",
       " ('Nigeria', 'NGR', 71, 84),\n",
       " ('East Germany', 'GDR', 72, 825),\n",
       " ('West Germany', 'FRG', 73, 490),\n",
       " ('Uganda', 'UGA', 74, 6),\n",
       " ('Cameroon', 'CMR', 75, 22),\n",
       " ('Mongolia', 'MGL', 76, 19),\n",
       " (\"Korea, Democratic People's Republic of\", 'PRK', 77, 52),\n",
       " ('Colombia', 'COL', 78, 11),\n",
       " ('Niger', 'NIG', 79, 1),\n",
       " ('Thailand', 'THA', 80, 21),\n",
       " ('Bermuda', 'BER', 81, 1),\n",
       " ('Tanzania', 'TAN', 82, 2),\n",
       " ('Guyana', 'GUY', 83, 1),\n",
       " ('Zimbabwe', 'ZIM', 84, 23),\n",
       " ('China', 'CHN', 85, 679),\n",
       " (\"Côte d'Ivoire\", 'CIV', 86, 1),\n",
       " ('Zambia', 'ZAM', 87, 2),\n",
       " ('Dominican Republic', 'DOM', 88, 4),\n",
       " ('Algeria', 'ALG', 89, 14),\n",
       " ('Syrian Arab Republic', 'SYR', 90, 3),\n",
       " ('Suriname', 'SUR', 91, 2),\n",
       " ('Costa Rica', 'CRC', 92, 4),\n",
       " ('Indonesia', 'INA', 93, 35),\n",
       " ('Senegal', 'SEN', 94, 1),\n",
       " ('Djibouti', 'DJI', 95, 1),\n",
       " ('Netherlands Antilles', 'AHO', 96, 1),\n",
       " ('Virgin Islands', 'ISV', 97, 1),\n",
       " ('Unified Team', 'EUN', 98, 223),\n",
       " ('Namibia', 'NAM', 99, 4),\n",
       " ('Qatar', 'QAT', 100, 2),\n",
       " ('Lithuania', 'LTU', 101, 50),\n",
       " ('Malaysia', 'MAS', 102, 6),\n",
       " ('Croatia', 'CRO', 103, 79),\n",
       " ('Israel', 'ISR', 104, 7),\n",
       " ('Slovenia', 'SLO', 105, 21),\n",
       " ('Independent Olympic Participants', 'IOP', 106, 3),\n",
       " ('Russian Federation', 'RUS', 107, 638),\n",
       " ('Ukraine', 'UKR', 108, 148),\n",
       " ('Ecuador', 'ECU', 109, 2),\n",
       " ('Burundi', 'BDI', 110, 1),\n",
       " ('Mozambique', 'MOZ', 111, 2),\n",
       " ('Czechia', 'CZE', 112, 41),\n",
       " ('Belarus', 'BLR', 113, 92),\n",
       " ('Tonga', 'TGA', 114, 1),\n",
       " ('Kazakhstan', 'KAZ', 115, 39),\n",
       " ('Uzbekistan', 'UZB', 116, 17),\n",
       " ('Slovakia', 'SVK', 117, 29),\n",
       " ('Moldova, Republic of', 'MDA', 118, 6),\n",
       " ('Georgia', 'GEO', 119, 18),\n",
       " ('Hong Kong', 'HKG', 120, 3),\n",
       " ('Armenia', 'ARM', 121, 9),\n",
       " ('Azerbaijan', 'AZE', 122, 16),\n",
       " ('Barbados', 'BAR', 123, 1),\n",
       " ('Saudi Arabia', 'KSA', 124, 2),\n",
       " ('Kyrgyzstan', 'KGZ', 125, 3),\n",
       " ('Kuwait', 'KUW', 126, 1),\n",
       " ('Vietnam', 'VIE', 127, 2),\n",
       " ('Macedonia, Republic of', 'MKD', 128, 1),\n",
       " ('Serbia and Montenegro', 'SCG', 129, 14),\n",
       " ('Eritrea', 'ERI', 130, 1),\n",
       " ('Paraguay', 'PAR', 131, 17),\n",
       " ('United Arab Emirates', 'UAE', 132, 1),\n",
       " ('Serbia', 'SRB', 133, 15),\n",
       " ('Sudan', 'SUD', 134, 1),\n",
       " ('Mauritius', 'MRI', 135, 1),\n",
       " ('Togo', 'TOG', 136, 1),\n",
       " ('Tajikistan', 'TJK', 137, 2),\n",
       " ('Afghanistan', 'AFG', 138, 1)]"
      ]
     },
     "execution_count": 24,
     "metadata": {},
     "output_type": "execute_result"
    }
   ],
   "source": [
    "db.session.query(country_ref.country_name, country_ref.code, subq).join(subq).all()"
   ]
  },
  {
   "cell_type": "code",
   "execution_count": null,
   "metadata": {},
   "outputs": [],
   "source": [
    "db.session.query(country_ref,count).filter(country_ref.id == count.country_id).all()"
   ]
  },
  {
   "cell_type": "code",
   "execution_count": null,
   "metadata": {},
   "outputs": [],
   "source": []
  }
 ],
 "metadata": {
  "kernelspec": {
   "display_name": "Python 3",
   "language": "python",
   "name": "python3"
  },
  "language_info": {
   "codemirror_mode": {
    "name": "ipython",
    "version": 3
   },
   "file_extension": ".py",
   "mimetype": "text/x-python",
   "name": "python",
   "nbconvert_exporter": "python",
   "pygments_lexer": "ipython3",
   "version": "3.6.7"
  }
 },
 "nbformat": 4,
 "nbformat_minor": 2
}

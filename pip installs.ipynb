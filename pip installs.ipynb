{
 "cells": [
  {
   "cell_type": "code",
   "execution_count": 1,
   "metadata": {},
   "outputs": [
    {
     "name": "stdout",
     "output_type": "stream",
     "text": [
      "Collecting python\n"
     ]
    },
    {
     "name": "stderr",
     "output_type": "stream",
     "text": [
      "  Could not find a version that satisfies the requirement python (from versions: )\n",
      "No matching distribution found for python\n",
      "You are using pip version 19.0.2, however version 19.0.3 is available.\n",
      "You should consider upgrading via the 'python -m pip install --upgrade pip' command.\n"
     ]
    }
   ],
   "source": [
    "!pip install python"
   ]
  },
  {
   "cell_type": "code",
   "execution_count": 1,
   "metadata": {},
   "outputs": [
    {
     "name": "stdout",
     "output_type": "stream",
     "text": [
      "Requirement already up-to-date: pip in c:\\users\\atcga\\anaconda3\\lib\\site-packages (19.0.3)\n"
     ]
    }
   ],
   "source": [
    "! pip install --upgrade pip"
   ]
  },
  {
   "cell_type": "code",
   "execution_count": 1,
   "metadata": {},
   "outputs": [
    {
     "name": "stdout",
     "output_type": "stream",
     "text": [
      "Requirement already satisfied: numpy in c:\\users\\atcga\\anaconda3\\lib\\site-packages (1.15.1)\n"
     ]
    }
   ],
   "source": [
    "!pip install numpy"
   ]
  },
  {
   "cell_type": "code",
   "execution_count": 2,
   "metadata": {},
   "outputs": [
    {
     "name": "stdout",
     "output_type": "stream",
     "text": [
      "Requirement already satisfied: scipy in c:\\users\\atcga\\anaconda3\\lib\\site-packages (1.1.0)\n"
     ]
    }
   ],
   "source": [
    "!pip install scipy"
   ]
  },
  {
   "cell_type": "code",
   "execution_count": 4,
   "metadata": {},
   "outputs": [
    {
     "name": "stdout",
     "output_type": "stream",
     "text": [
      "Collecting upgrade\n"
     ]
    },
    {
     "name": "stderr",
     "output_type": "stream",
     "text": [
      "  Could not find a version that satisfies the requirement upgrade (from versions: )\n",
      "No matching distribution found for upgrade\n"
     ]
    }
   ],
   "source": [
    "!pip install -- upgrade flask"
   ]
  },
  {
   "cell_type": "code",
   "execution_count": 5,
   "metadata": {},
   "outputs": [
    {
     "name": "stdout",
     "output_type": "stream",
     "text": [
      "Requirement already satisfied: selenium in c:\\users\\atcga\\anaconda3\\lib\\site-packages (3.5.0)\n"
     ]
    }
   ],
   "source": [
    "!pip install selenium"
   ]
  },
  {
   "cell_type": "code",
   "execution_count": 6,
   "metadata": {},
   "outputs": [
    {
     "name": "stderr",
     "output_type": "stream",
     "text": [
      "\n",
      "Usage:   \n",
      "  pip install [options] <requirement specifier> [package-index-options] ...\n",
      "  pip install [options] -r <requirements file> [package-index-options] ...\n",
      "  pip install [options] [-e] <vcs project url> ...\n",
      "  pip install [options] [-e] <local project path> ...\n",
      "  pip install [options] <archive url/path> ...\n",
      "\n",
      "no such option: --update\n"
     ]
    }
   ],
   "source": [
    "!pip install --update selenium"
   ]
  },
  {
   "cell_type": "code",
   "execution_count": 1,
   "metadata": {},
   "outputs": [
    {
     "name": "stdout",
     "output_type": "stream",
     "text": [
      "Requirement already satisfied: plotly in c:\\users\\atcga\\anaconda3\\lib\\site-packages (3.5.0)\n",
      "Requirement already satisfied: retrying>=1.3.3 in c:\\users\\atcga\\anaconda3\\lib\\site-packages (from plotly) (1.3.3)\n",
      "Requirement already satisfied: decorator>=4.0.6 in c:\\users\\atcga\\anaconda3\\lib\\site-packages (from plotly) (4.3.0)\n",
      "Requirement already satisfied: nbformat>=4.2 in c:\\users\\atcga\\anaconda3\\lib\\site-packages (from plotly) (4.4.0)\n",
      "Requirement already satisfied: requests in c:\\users\\atcga\\anaconda3\\lib\\site-packages (from plotly) (2.21.0)\n",
      "Requirement already satisfied: pytz in c:\\users\\atcga\\anaconda3\\lib\\site-packages (from plotly) (2018.5)\n",
      "Requirement already satisfied: six in c:\\users\\atcga\\anaconda3\\lib\\site-packages (from plotly) (1.11.0)\n",
      "Requirement already satisfied: jupyter-core in c:\\users\\atcga\\anaconda3\\lib\\site-packages (from nbformat>=4.2->plotly) (4.4.0)\n",
      "Requirement already satisfied: jsonschema!=2.5.0,>=2.4 in c:\\users\\atcga\\anaconda3\\lib\\site-packages (from nbformat>=4.2->plotly) (2.6.0)\n",
      "Requirement already satisfied: traitlets>=4.1 in c:\\users\\atcga\\anaconda3\\lib\\site-packages (from nbformat>=4.2->plotly) (4.3.2)\n",
      "Requirement already satisfied: ipython-genutils in c:\\users\\atcga\\anaconda3\\lib\\site-packages (from nbformat>=4.2->plotly) (0.2.0)\n",
      "Requirement already satisfied: certifi>=2017.4.17 in c:\\users\\atcga\\anaconda3\\lib\\site-packages (from requests->plotly) (2018.8.24)\n",
      "Requirement already satisfied: chardet<3.1.0,>=3.0.2 in c:\\users\\atcga\\anaconda3\\lib\\site-packages (from requests->plotly) (3.0.4)\n",
      "Requirement already satisfied: urllib3<1.25,>=1.21.1 in c:\\users\\atcga\\anaconda3\\lib\\site-packages (from requests->plotly) (1.23)\n",
      "Requirement already satisfied: idna<2.9,>=2.5 in c:\\users\\atcga\\anaconda3\\lib\\site-packages (from requests->plotly) (2.7)\n"
     ]
    }
   ],
   "source": [
    "!pip install plotly"
   ]
  },
  {
   "cell_type": "code",
   "execution_count": null,
   "metadata": {},
   "outputs": [],
   "source": []
  }
 ],
 "metadata": {
  "kernelspec": {
   "display_name": "Python 3",
   "language": "python",
   "name": "python3"
  },
  "language_info": {
   "codemirror_mode": {
    "name": "ipython",
    "version": 3
   },
   "file_extension": ".py",
   "mimetype": "text/x-python",
   "name": "python",
   "nbconvert_exporter": "python",
   "pygments_lexer": "ipython3",
   "version": "3.7.0"
  }
 },
 "nbformat": 4,
 "nbformat_minor": 2
}
